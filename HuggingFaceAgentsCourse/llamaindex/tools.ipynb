{
 "cells": [
  {
   "cell_type": "markdown",
   "id": "3601a307",
   "metadata": {},
   "source": [
    "\n",
    "1. FunctionTool: Convert any Python function into a tool that an agent can use. It automatically figures out how the function works.\n",
    "2. QueryEngineTool: A tool that lets agents use query engines. Since agents are built on query engines, they can also use other agents as tools.\n",
    "3. Toolspecs: Sets of tools created by the community, which often include tools for specific services like Gmail.\n",
    "4. Utility Tools: Special tools that help handle large amounts of data from other tools."
   ]
  },
  {
   "cell_type": "code",
   "execution_count": 2,
   "id": "ee66c034",
   "metadata": {},
   "outputs": [
    {
     "name": "stderr",
     "output_type": "stream",
     "text": [
      "/home/mutaician/AIEngineerLearning/HuggingFaceAgentsCourse/llamaindex/.venv/lib/python3.13/site-packages/tqdm/auto.py:21: TqdmWarning: IProgress not found. Please update jupyter and ipywidgets. See https://ipywidgets.readthedocs.io/en/stable/user_install.html\n",
      "  from .autonotebook import tqdm as notebook_tqdm\n",
      "None of PyTorch, TensorFlow >= 2.0, or Flax have been found. Models won't be available and only tokenizers, configuration and file/data utilities can be used.\n"
     ]
    }
   ],
   "source": [
    "import os\n",
    "from dotenv import load_dotenv\n",
    "from llama_index.llms.openrouter import OpenRouter\n",
    "\n",
    "load_dotenv()\n",
    "\n",
    "OPENROUTER_API_KEY = os.environ.get(\"OPENROUTER_API_KEY\")\n",
    "if not OPENROUTER_API_KEY:\n",
    "    raise ValueError(\"OPENROUTER_API_KEY not found in environment variables. Please check your .env file.\")\n",
    "\n",
    "GOOGLE_API_KEY = os.environ.get(\"GOOGLE_API_KEY\")\n",
    "if not GOOGLE_API_KEY:\n",
    "     print(\"Warning: GOOGLE_API_KEY not found. Google Embedding might fail if not using ADC.\") # Or raise error"
   ]
  },
  {
   "cell_type": "code",
   "execution_count": 1,
   "id": "b5893814",
   "metadata": {},
   "outputs": [
    {
     "name": "stdout",
     "output_type": "stream",
     "text": [
      "Getting weather for Kericho\n"
     ]
    },
    {
     "data": {
      "text/plain": [
       "ToolOutput(content='The weather in Kericho is sunny', tool_name='my_weather_tool', raw_input={'args': ('Kericho',), 'kwargs': {}}, raw_output='The weather in Kericho is sunny', is_error=False)"
      ]
     },
     "execution_count": 1,
     "metadata": {},
     "output_type": "execute_result"
    }
   ],
   "source": [
    "# function tool - wrap any function and make it available to agent\n",
    "\n",
    "from llama_index.core.tools import FunctionTool\n",
    "\n",
    "def get_weather(location: str) -> str:\n",
    "    \"\"\"Useful for getting weather for a given location.\"\"\"\n",
    "    print(f\"Getting weather for {location}\")\n",
    "    return f\"The weather in {location} is sunny\"\n",
    "\n",
    "tool = FunctionTool.from_defaults(\n",
    "    get_weather,\n",
    "    name='my_weather_tool',\n",
    "    description='Useful for getting weather for a given location'\n",
    ")\n",
    "\n",
    "tool.call(\"Kericho\")\n"
   ]
  },
  {
   "cell_type": "code",
   "execution_count": null,
   "id": "fd676257",
   "metadata": {},
   "outputs": [
    {
     "data": {
      "text/plain": [
       "ToolOutput(content='There is no information available regarding research on the impact of AI on the future of work and society. The expertise described is centered on 19th-century Irish politics and the Irish Home Rule movement.', tool_name='some useful name', raw_input={'input': 'Responds about research on the impact of AI on the future of work and society'}, raw_output=Response(response='There is no information available regarding research on the impact of AI on the future of work and society. The expertise described is centered on 19th-century Irish politics and the Irish Home Rule movement.', source_nodes=[NodeWithScore(node=TextNode(id_='f1946029-1f1c-4a8e-96fa-aafb6f6fd90d', embedding=None, metadata={'file_path': '/home/mutaician/AIEngineerLearning/HuggingFaceAgentsCourse/llamaindex/data/persona_1005.txt', 'file_name': 'persona_1005.txt', 'file_type': 'text/plain', 'file_size': 85, 'creation_date': '2025-04-12', 'last_modified_date': '2025-04-12'}, excluded_embed_metadata_keys=['file_name', 'file_type', 'file_size', 'creation_date', 'last_modified_date', 'last_accessed_date'], excluded_llm_metadata_keys=['file_name', 'file_type', 'file_size', 'creation_date', 'last_modified_date', 'last_accessed_date'], relationships={<NodeRelationship.SOURCE: '1'>: RelatedNodeInfo(node_id='87ef6f63-fa00-4e4d-89a3-6d37eb7b0e90', node_type='4', metadata={'file_path': '/home/mutaician/AIEngineerLearning/HuggingFaceAgentsCourse/llamaindex/data/persona_1005.txt', 'file_name': 'persona_1005.txt', 'file_type': 'text/plain', 'file_size': 85, 'creation_date': '2025-04-12', 'last_modified_date': '2025-04-12'}, hash='92a44b661437fbf29bd23524567ea2674b67216fa3808d89d379c79023e97715')}, metadata_template='{key}: {value}', metadata_separator='\\n', text='An historian focused on 19th-century Irish politics and the Irish Home Rule movement.', mimetype='text/plain', start_char_idx=0, end_char_idx=85, metadata_seperator='\\n', text_template='{metadata_str}\\n\\n{content}'), score=0.3321723870304739), NodeWithScore(node=TextNode(id_='2a77a92b-cee9-41b5-a56a-0f475d149360', embedding=None, metadata={'file_path': '/home/mutaician/AIEngineerLearning/HuggingFaceAgentsCourse/llamaindex/data/persona_1005.txt', 'file_name': 'persona_1005.txt', 'file_type': 'text/plain', 'file_size': 85, 'creation_date': '2025-04-12', 'last_modified_date': '2025-04-12'}, excluded_embed_metadata_keys=['file_name', 'file_type', 'file_size', 'creation_date', 'last_modified_date', 'last_accessed_date'], excluded_llm_metadata_keys=['file_name', 'file_type', 'file_size', 'creation_date', 'last_modified_date', 'last_accessed_date'], relationships={<NodeRelationship.SOURCE: '1'>: RelatedNodeInfo(node_id='f58d994c-2bdb-4606-bbe5-225571f26e64', node_type='4', metadata={'file_path': '/home/mutaician/AIEngineerLearning/HuggingFaceAgentsCourse/llamaindex/data/persona_1005.txt', 'file_name': 'persona_1005.txt', 'file_type': 'text/plain', 'file_size': 85, 'creation_date': '2025-04-12', 'last_modified_date': '2025-04-12'}, hash='92a44b661437fbf29bd23524567ea2674b67216fa3808d89d379c79023e97715')}, metadata_template='{key}: {value}', metadata_separator='\\n', text='An historian focused on 19th-century Irish politics and the Irish Home Rule movement.', mimetype='text/plain', start_char_idx=0, end_char_idx=85, metadata_seperator='\\n', text_template='{metadata_str}\\n\\n{content}'), score=0.3321723870304739)], metadata={'f1946029-1f1c-4a8e-96fa-aafb6f6fd90d': {'file_path': '/home/mutaician/AIEngineerLearning/HuggingFaceAgentsCourse/llamaindex/data/persona_1005.txt', 'file_name': 'persona_1005.txt', 'file_type': 'text/plain', 'file_size': 85, 'creation_date': '2025-04-12', 'last_modified_date': '2025-04-12'}, '2a77a92b-cee9-41b5-a56a-0f475d149360': {'file_path': '/home/mutaician/AIEngineerLearning/HuggingFaceAgentsCourse/llamaindex/data/persona_1005.txt', 'file_name': 'persona_1005.txt', 'file_type': 'text/plain', 'file_size': 85, 'creation_date': '2025-04-12', 'last_modified_date': '2025-04-12'}}), is_error=False)"
      ]
     },
     "execution_count": 3,
     "metadata": {},
     "output_type": "execute_result"
    }
   ],
   "source": [
    "# Query Engine tool\n",
    "import chromadb\n",
    "from llama_index.core import VectorStoreIndex\n",
    "from llama_index.core.tools import QueryEngineTool\n",
    "from llama_index.embeddings.google_genai import GoogleGenAIEmbedding\n",
    "from llama_index.vector_stores.chroma import ChromaVectorStore\n",
    "\n",
    "embed_model = GoogleGenAIEmbedding(model_name=\"text-embedding-004\", api_key=GOOGLE_API_KEY)\n",
    "\n",
    "db = chromadb.PersistentClient(path=\"./alfred_chroma_db\")\n",
    "chroma_collection = db.get_or_create_collection(\"alfred\")\n",
    "vector_store = ChromaVectorStore(chroma_collection=chroma_collection)\n",
    "\n",
    "index = VectorStoreIndex.from_vector_store(vector_store,embed_model)\n",
    "\n",
    "llm = OpenRouter(\n",
    "    api_key=OPENROUTER_API_KEY,\n",
    "    max_tokens=256,\n",
    "    model=\"openrouter/optimus-alpha\"\n",
    ")\n",
    "\n",
    "query_engine = index.as_query_engine(llm)\n",
    "tool = QueryEngineTool.from_defaults(query_engine=query_engine,name='some useful name', description=\"some useful description\")\n",
    "\n",
    "await tool.acall(\n",
    "    \"Responds about research on the impact of AI on the future of work and society\"\n",
    ")"
   ]
  },
  {
   "cell_type": "code",
   "execution_count": 5,
   "id": "e05d8753",
   "metadata": {},
   "outputs": [
    {
     "data": {
      "text/plain": [
       "[<llama_index.core.tools.function_tool.FunctionTool at 0x7ee87890b110>,\n",
       " <llama_index.core.tools.function_tool.FunctionTool at 0x7ee87890ac10>,\n",
       " <llama_index.core.tools.function_tool.FunctionTool at 0x7ee87890b390>,\n",
       " <llama_index.core.tools.function_tool.FunctionTool at 0x7ee87890b4d0>,\n",
       " <llama_index.core.tools.function_tool.FunctionTool at 0x7ee87890b610>,\n",
       " <llama_index.core.tools.function_tool.FunctionTool at 0x7ee87890b750>]"
      ]
     },
     "execution_count": 5,
     "metadata": {},
     "output_type": "execute_result"
    }
   ],
   "source": [
    "# Toolspecs - collection of tools that work together harmoniously\n",
    "from llama_index.tools.google import GmailToolSpec\n",
    "\n",
    "tool_spec = GmailToolSpec()\n",
    "tool_spec_list = tool_spec.to_tool_list()\n",
    "tool_spec_list"
   ]
  },
  {
   "cell_type": "code",
   "execution_count": 6,
   "id": "a82e363d",
   "metadata": {},
   "outputs": [
    {
     "data": {
      "text/plain": [
       "[('load_data',\n",
       "  \"load_data() -> List[llama_index.core.schema.Document]\\nLoad emails from the user's account.\"),\n",
       " ('search_messages',\n",
       "  \"search_messages(query: str, max_results: Optional[int] = None)\\nSearches email messages given a query string and the maximum number\\nof results requested by the user\\n   Returns: List of relevant message objects up to the maximum number of results.\\n\\nArgs:\\n    query[str]: The user's query\\n    max_results (Optional[int]): The maximum number of search results\\n    to return.\\n\"),\n",
       " ('create_draft',\n",
       "  \"create_draft(to: Optional[List[str]] = None, subject: Optional[str] = None, message: Optional[str] = None) -> str\\nCreate and insert a draft email.\\n   Print the returned draft's message and id.\\n   Returns: Draft object, including draft id and message meta data.\\n\\nArgs:\\n    to (Optional[str]): The email addresses to send the message to\\n    subject (Optional[str]): The subject for the event\\n    message (Optional[str]): The message for the event\\n\"),\n",
       " ('update_draft',\n",
       "  \"update_draft(to: Optional[List[str]] = None, subject: Optional[str] = None, message: Optional[str] = None, draft_id: str = None) -> str\\nUpdate a draft email.\\n   Print the returned draft's message and id.\\n   This function is required to be passed a draft_id that is obtained when creating messages\\n   Returns: Draft object, including draft id and message meta data.\\n\\nArgs:\\n    to (Optional[str]): The email addresses to send the message to\\n    subject (Optional[str]): The subject for the event\\n    message (Optional[str]): The message for the event\\n    draft_id (str): the id of the draft to be updated\\n\"),\n",
       " ('get_draft',\n",
       "  \"get_draft(draft_id: str = None) -> str\\nGet a draft email.\\n   Print the returned draft's message and id.\\n   Returns: Draft object, including draft id and message meta data.\\n\\nArgs:\\n    draft_id (str): the id of the draft to be updated\\n\"),\n",
       " ('send_draft',\n",
       "  \"send_draft(draft_id: str = None) -> str\\nSends a draft email.\\n   Print the returned draft's message and id.\\n   Returns: Draft object, including draft id and message meta data.\\n\\nArgs:\\n    draft_id (str): the id of the draft to be updated\\n\")]"
      ]
     },
     "execution_count": 6,
     "metadata": {},
     "output_type": "execute_result"
    }
   ],
   "source": [
    "[(tool.metadata.name, tool.metadata.description) for tool in tool_spec_list]"
   ]
  }
 ],
 "metadata": {
  "kernelspec": {
   "display_name": ".venv",
   "language": "python",
   "name": "python3"
  },
  "language_info": {
   "codemirror_mode": {
    "name": "ipython",
    "version": 3
   },
   "file_extension": ".py",
   "mimetype": "text/x-python",
   "name": "python",
   "nbconvert_exporter": "python",
   "pygments_lexer": "ipython3",
   "version": "3.13.2"
  }
 },
 "nbformat": 4,
 "nbformat_minor": 5
}
