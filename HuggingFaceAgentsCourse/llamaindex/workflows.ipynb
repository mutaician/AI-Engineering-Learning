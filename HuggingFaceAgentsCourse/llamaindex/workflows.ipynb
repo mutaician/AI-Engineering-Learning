{
 "cells": [
  {
   "cell_type": "markdown",
   "id": "b696d697",
   "metadata": {},
   "source": [
    "A workflow provides a structured way to organize code into sequential and manageable steps\n",
    "\n",
    "workfloq is created by defining Steps which are triggered by Events and themselves emit Events to trigger further steps\n",
    "\n",
    "Benefits of workflows: \n",
    "\n",
    "1. Clear organization of code into discrete steps\n",
    "2. Event-driven architecture for flexible control flow\n",
    "3. Type-safe communication between steps\n",
    "4. Built-in state management\n",
    "5. Support for both simple and complex agent interactions\n",
    "\n",
    " workflows strike a great balance between the autonomy of agents while maintaining control over the overall workflow."
   ]
  },
  {
   "cell_type": "code",
   "execution_count": 3,
   "id": "c518b7c5",
   "metadata": {},
   "outputs": [
    {
     "data": {
      "text/plain": [
       "'Hello, Cian'"
      ]
     },
     "execution_count": 3,
     "metadata": {},
     "output_type": "execute_result"
    }
   ],
   "source": [
    "from llama_index.core.workflow import StartEvent, StopEvent, Workflow, step\n",
    "\n",
    "# Basic workflow creation\n",
    "\n",
    "class MyWorkFlow(Workflow):\n",
    "    @step\n",
    "    async def my_step(self, ev: StartEvent) -> StopEvent:\n",
    "        # do something here\n",
    "        return StopEvent(result=\"Hello, Cian\")\n",
    "\n",
    "w = MyWorkFlow(timeout=20, verbose=False)\n",
    "result = await w.run()\n",
    "result"
   ]
  },
  {
   "cell_type": "code",
   "execution_count": 5,
   "id": "79ea6ea1",
   "metadata": {},
   "outputs": [
    {
     "data": {
      "text/plain": [
       "'Finished processing: Step 1 complete'"
      ]
     },
     "execution_count": 5,
     "metadata": {},
     "output_type": "execute_result"
    }
   ],
   "source": [
    "# Connect multiple steps\n",
    "\n",
    "from llama_index.core.workflow import Event\n",
    "\n",
    "class ProcessingEvent(Event):\n",
    "    intermediate_result: str\n",
    "\n",
    "class MultiStepWorkflow(Workflow):\n",
    "\n",
    "    @step\n",
    "    async def step_one(self, ev: StartEvent) -> ProcessingEvent:\n",
    "        # Process initial data\n",
    "        return ProcessingEvent(intermediate_result=\"Step 1 complete\")\n",
    "\n",
    "    @step\n",
    "    async def step_two(self, ev: ProcessingEvent) -> StopEvent:\n",
    "        # Use the intermediate result\n",
    "        final_result = f\"Finished processing: {ev.intermediate_result}\"\n",
    "        return StopEvent(result=final_result)\n",
    "\n",
    "w = MultiStepWorkflow(timeout=10, verbose=False)\n",
    "result = await w.run()\n",
    "result"
   ]
  },
  {
   "cell_type": "code",
   "execution_count": null,
   "id": "4f40f644",
   "metadata": {},
   "outputs": [],
   "source": []
  }
 ],
 "metadata": {
  "kernelspec": {
   "display_name": ".venv",
   "language": "python",
   "name": "python3"
  },
  "language_info": {
   "codemirror_mode": {
    "name": "ipython",
    "version": 3
   },
   "file_extension": ".py",
   "mimetype": "text/x-python",
   "name": "python",
   "nbconvert_exporter": "python",
   "pygments_lexer": "ipython3",
   "version": "3.13.2"
  }
 },
 "nbformat": 4,
 "nbformat_minor": 5
}
