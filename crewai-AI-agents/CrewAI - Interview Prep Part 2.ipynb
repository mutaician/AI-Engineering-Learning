{
 "cells": [
  {
   "cell_type": "markdown",
   "metadata": {
    "id": "urkcA9p8NunS"
   },
   "source": [
    "# Setup"
   ]
  },
  {
   "cell_type": "code",
   "execution_count": null,
   "metadata": {
    "colab": {
     "base_uri": "https://localhost:8080/"
    },
    "executionInfo": {
     "elapsed": 87472,
     "status": "ok",
     "timestamp": 1739185114980,
     "user": {
      "displayName": "Diogo Resende",
      "userId": "05706604408624562002"
     },
     "user_tz": -60
    },
    "id": "p620R6geNqd0",
    "outputId": "760bc429-0a23-4321-b592-196d1c8bf08b"
   },
   "outputs": [],
   "source": [
    "# !pip install 'crewai[tools]' -q"
   ]
  },
  {
   "cell_type": "code",
   "execution_count": null,
   "metadata": {
    "colab": {
     "base_uri": "https://localhost:8080/"
    },
    "executionInfo": {
     "elapsed": 327,
     "status": "ok",
     "timestamp": 1739185115309,
     "user": {
      "displayName": "Diogo Resende",
      "userId": "05706604408624562002"
     },
     "user_tz": -60
    },
    "id": "BqWmBFYQNymn",
    "outputId": "4cc6471b-9f78-43f6-e497-2ade4b557dcb"
   },
   "outputs": [],
   "source": [
    "# %cd /content/drive/MyDrive/AI Agents/CrewAI/Job Interview Prep Part 2"
   ]
  },
  {
   "cell_type": "code",
   "execution_count": null,
   "metadata": {
    "executionInfo": {
     "elapsed": 900,
     "status": "ok",
     "timestamp": 1739185130178,
     "user": {
      "displayName": "Diogo Resende",
      "userId": "05706604408624562002"
     },
     "user_tz": -60
    },
    "id": "mY7topp8OOs3"
   },
   "outputs": [],
   "source": [
    "# Retrieve API Keys and store them as Environment variables\n",
    "from google.colab import userdata\n",
    "openai_api_key = userdata.get('ai_agents_openai')\n",
    "serper_api_key = userdata.get('serper_api')\n",
    "\n",
    "import os\n",
    "os.environ['OPENAI_API_KEY'] = openai_api_key\n",
    "os.environ['SERPER_API_KEY'] = serper_api_key"
   ]
  },
  {
   "cell_type": "code",
   "execution_count": null,
   "metadata": {
    "executionInfo": {
     "elapsed": 13907,
     "status": "ok",
     "timestamp": 1739185144079,
     "user": {
      "displayName": "Diogo Resende",
      "userId": "05706604408624562002"
     },
     "user_tz": -60
    },
    "id": "c36QOsjDO0Iq"
   },
   "outputs": [],
   "source": [
    "# import libraries\n",
    "from crewai import Agent, Crew, Process, Task\n",
    "from langchain_openai import ChatOpenAI\n",
    "from IPython.display import display, Markdown\n",
    "from crewai_tools import ScrapeWebsiteTool, SerperDevTool"
   ]
  },
  {
   "cell_type": "code",
   "execution_count": null,
   "metadata": {
    "executionInfo": {
     "elapsed": 102,
     "status": "ok",
     "timestamp": 1739185144179,
     "user": {
      "displayName": "Diogo Resende",
      "userId": "05706604408624562002"
     },
     "user_tz": -60
    },
    "id": "povBV9IKPJNW"
   },
   "outputs": [],
   "source": [
    "# Define the LLM\n",
    "llm = ChatOpenAI(model_name = \"gpt-4o\", temperature  = 0.5)"
   ]
  },
  {
   "cell_type": "markdown",
   "metadata": {
    "id": "6JmHO-bnUADY"
   },
   "source": [
    "# User Inputs"
   ]
  },
  {
   "cell_type": "code",
   "execution_count": null,
   "metadata": {
    "colab": {
     "base_uri": "https://localhost:8080/"
    },
    "executionInfo": {
     "elapsed": 34470,
     "status": "ok",
     "timestamp": 1739185184647,
     "user": {
      "displayName": "Diogo Resende",
      "userId": "05706604408624562002"
     },
     "user_tz": -60
    },
    "id": "SoJspV1mPSLG",
    "outputId": "e1728344-ea67-46b0-b62a-dead79a5d995"
   },
   "outputs": [],
   "source": [
    "# Call for inputs: Interviewer, company, job position, job description:\n",
    "interviewer = input(\"Enter the name of the interviewer (if unknown include None): \")\n",
    "company = input(\"Enter the name of the company: \")\n",
    "job_position = input(\"Enter the job position: \")\n",
    "job_description = input(\"Enter the job description: \")"
   ]
  },
  {
   "cell_type": "markdown",
   "metadata": {
    "id": "Lh-d0-0eUaux"
   },
   "source": [
    "# Research Crew"
   ]
  },
  {
   "cell_type": "markdown",
   "metadata": {
    "id": "xf8bwrlXUc1v"
   },
   "source": [
    "## Research AI Agent"
   ]
  },
  {
   "cell_type": "code",
   "execution_count": null,
   "metadata": {
    "executionInfo": {
     "elapsed": 6,
     "status": "ok",
     "timestamp": 1739185189544,
     "user": {
      "displayName": "Diogo Resende",
      "userId": "05706604408624562002"
     },
     "user_tz": -60
    },
    "id": "z9c9p6PbURmg"
   },
   "outputs": [],
   "source": [
    "# Create the Research AI Agent\n",
    "research_agent = Agent(\n",
    "    role = \"Research Agent\",\n",
    "    goal = \"conduct in-depth research\",\n",
    "    backstory = \"\"\" As a Research Specialist, your mission is to uncover detailed and relevant information.\n",
    "    The ultimate goal is to meet the expectations o the task\"\"\",\n",
    "    llm = llm,\n",
    "    tools = [ScrapeWebsiteTool(),  SerperDevTool()])"
   ]
  },
  {
   "cell_type": "markdown",
   "metadata": {
    "id": "yIbFFHJ9WCd_"
   },
   "source": [
    "## Research Tasks"
   ]
  },
  {
   "cell_type": "code",
   "execution_count": null,
   "metadata": {
    "executionInfo": {
     "elapsed": 2,
     "status": "ok",
     "timestamp": 1739185190489,
     "user": {
      "displayName": "Diogo Resende",
      "userId": "05706604408624562002"
     },
     "user_tz": -60
    },
    "id": "fLeXGVxNV8_O"
   },
   "outputs": [],
   "source": [
    "# Define the task about researching the company\n",
    "research_company_task = Task(\n",
    "    description = f\"\"\"\n",
    "    Research about {company}, their position in the sector and recent industry trends.\n",
    "    Focus on recent news and developments from last 12 months\"\"\",\n",
    "    expected_output = f\"\"\" A comprehensive report in Markdown with bullet point about {company} and its indutry\"\"\",\n",
    "    agent = research_agent)"
   ]
  },
  {
   "cell_type": "code",
   "execution_count": null,
   "metadata": {
    "executionInfo": {
     "elapsed": 5,
     "status": "ok",
     "timestamp": 1739185190600,
     "user": {
      "displayName": "Diogo Resende",
      "userId": "05706604408624562002"
     },
     "user_tz": -60
    },
    "id": "0aG1OM13YKye"
   },
   "outputs": [],
   "source": [
    "# Research Interviewer Task\n",
    "research_person_task = Task(\n",
    "    description = f\"Research about {interviewer} with a focus on their professional career\",\n",
    "    expected_output = f\"\"\"A comprehensive report in Markdown with bullet point about {interviewer}\"\"\",\n",
    "    agent = research_agent)"
   ]
  },
  {
   "cell_type": "markdown",
   "metadata": {
    "id": "9jYx5BLWYnac"
   },
   "source": [
    "## AI Coach + Interview Prep"
   ]
  },
  {
   "cell_type": "code",
   "execution_count": null,
   "metadata": {
    "executionInfo": {
     "elapsed": 4,
     "status": "ok",
     "timestamp": 1739185191519,
     "user": {
      "displayName": "Diogo Resende",
      "userId": "05706604408624562002"
     },
     "user_tz": -60
    },
    "id": "nVGSf_frYleX"
   },
   "outputs": [],
   "source": [
    "# Build the AI interview coach agent\n",
    "coach_agent = Agent(\n",
    "    role = \"Interview Coach\",\n",
    "    goal = f\"I help the user prepare for the job interview for job {job_position}\",\n",
    "    backstory = f\"You are an expert in job interviews in companies like {company}\",\n",
    "    llm = llm)"
   ]
  },
  {
   "cell_type": "code",
   "execution_count": null,
   "metadata": {
    "executionInfo": {
     "elapsed": 10,
     "status": "ok",
     "timestamp": 1739185192200,
     "user": {
      "displayName": "Diogo Resende",
      "userId": "05706604408624562002"
     },
     "user_tz": -60
    },
    "id": "8BnpC2r1Zojr"
   },
   "outputs": [],
   "source": [
    "# Prepare the lsit of questions\n",
    "define_questions_task = Task(\n",
    "    description = f\"\"\"\n",
    "    Define a list a of questions to prepare the user for the job {job_position} based on the company {company}, job description {job_description} and interviewer {interviewer}\"\"\",\n",
    "    expected_output = f\"\"\" a list of 20 questions to ask the user in Markdown format that cover: Culture and Team fit, Job position Fit, Background and ways of working, Growth Mindset\"\"\",\n",
    "    agent = coach_agent,\n",
    "    context = [research_company_task, research_person_task])"
   ]
  },
  {
   "cell_type": "markdown",
   "metadata": {
    "id": "eq7EHjR8dp-Y"
   },
   "source": [
    "## Assemble the Crew"
   ]
  },
  {
   "cell_type": "code",
   "execution_count": null,
   "metadata": {
    "colab": {
     "base_uri": "https://localhost:8080/"
    },
    "executionInfo": {
     "elapsed": 64023,
     "status": "ok",
     "timestamp": 1739185256842,
     "user": {
      "displayName": "Diogo Resende",
      "userId": "05706604408624562002"
     },
     "user_tz": -60
    },
    "id": "tMt7Fku8arIn",
    "outputId": "32920aaa-29a6-4d86-8d4c-35aa9e43b8de"
   },
   "outputs": [],
   "source": [
    "# Assembling the crew\n",
    "crew = Crew(\n",
    "    agents = [research_agent, coach_agent],\n",
    "    tasks = [research_company_task, research_person_task, define_questions_task],\n",
    "    verbose = True,\n",
    "    process = Process.sequential)\n",
    "result = crew.kickoff({\"topic\": \"Write a list of question to prepare for the the interview\"})"
   ]
  },
  {
   "cell_type": "markdown",
   "metadata": {
    "id": "V0Wk7v_bexc7"
   },
   "source": [
    "## Exporting"
   ]
  },
  {
   "cell_type": "code",
   "execution_count": null,
   "metadata": {
    "colab": {
     "base_uri": "https://localhost:8080/",
     "height": 645
    },
    "executionInfo": {
     "elapsed": 14,
     "status": "ok",
     "timestamp": 1739185256872,
     "user": {
      "displayName": "Diogo Resende",
      "userId": "05706604408624562002"
     },
     "user_tz": -60
    },
    "id": "Yn29X65fd-lV",
    "outputId": "98be761d-cb08-4ff7-a8c0-0c48ef0896d8"
   },
   "outputs": [],
   "source": [
    "# Check the crew outcome\n",
    "display(Markdown(result.tasks_output[2].raw))"
   ]
  },
  {
   "cell_type": "code",
   "execution_count": null,
   "metadata": {
    "executionInfo": {
     "elapsed": 1005,
     "status": "ok",
     "timestamp": 1739185257878,
     "user": {
      "displayName": "Diogo Resende",
      "userId": "05706604408624562002"
     },
     "user_tz": -60
    },
    "id": "Y7NfoyXXfN0J"
   },
   "outputs": [],
   "source": [
    "# Export each of the tasks output\n",
    "# Exporting the  company report\n",
    "file_name = f\"{company}_report.txt\"\n",
    "\n",
    "# Open the file in write mode and write the content\n",
    "with open(file_name, \"w\") as file:\n",
    "    file.write(result.tasks_output[0].raw)\n",
    "\n",
    "# Export the interviewer report\n",
    "file_name = f\"{interviewer}_report.txt\"\n",
    "\n",
    "# Open the file in write mode and write the content\n",
    "with open(file_name, \"w\") as file:\n",
    "    file.write(result.tasks_output[1].raw)\n",
    "\n",
    "# Export the interview questions\n",
    "file_name = f\"{job_position}_questions.txt\"\n",
    "\n",
    "# Open the file in write mode and write the content\n",
    "with open(file_name, \"w\") as file:\n",
    "    file.write(result.tasks_output[2].raw)"
   ]
  },
  {
   "cell_type": "markdown",
   "metadata": {
    "id": "nkaTkZ43i8R9"
   },
   "source": [
    "# Interview Prep"
   ]
  },
  {
   "cell_type": "code",
   "execution_count": null,
   "metadata": {
    "executionInfo": {
     "elapsed": 10,
     "status": "ok",
     "timestamp": 1739185733765,
     "user": {
      "displayName": "Diogo Resende",
      "userId": "05706604408624562002"
     },
     "user_tz": -60
    },
    "id": "KT7Nmxdti9or"
   },
   "outputs": [],
   "source": [
    "# Import the questions from the directory\n",
    "with open(f\"{job_position}_questions.txt\", \"r\") as file:\n",
    "    questions = file.read()"
   ]
  },
  {
   "cell_type": "code",
   "execution_count": null,
   "metadata": {
    "executionInfo": {
     "elapsed": 4,
     "status": "ok",
     "timestamp": 1739185819389,
     "user": {
      "displayName": "Diogo Resende",
      "userId": "05706604408624562002"
     },
     "user_tz": -60
    },
    "id": "Kfr7qORVjD-v"
   },
   "outputs": [],
   "source": [
    "# AI Agent that tasks a question\n",
    "interviewer_agent = Agent(\n",
    "    role = \"Interviewer Agent\",\n",
    "    goal = f\"Ask all question from {questions} to the user\",\n",
    "    backstory = f\"You are an expert in job interviews in companies like {company}\",\n",
    "    llm = llm)"
   ]
  },
  {
   "cell_type": "code",
   "execution_count": null,
   "metadata": {
    "executionInfo": {
     "elapsed": 2,
     "status": "ok",
     "timestamp": 1739186384397,
     "user": {
      "displayName": "Diogo Resende",
      "userId": "05706604408624562002"
     },
     "user_tz": -60
    },
    "id": "Q1990NecjY5K"
   },
   "outputs": [],
   "source": [
    "# Interview Task\n",
    "interview_prep_task = Task(\n",
    "    description = f\"Ask a question from {questions} to the user\",\n",
    "    expected_output = f\"Ask only one question at a time\",\n",
    "    agent = interviewer_agent,\n",
    "    human_input = True)"
   ]
  },
  {
   "cell_type": "code",
   "execution_count": null,
   "metadata": {
    "executionInfo": {
     "elapsed": 18,
     "status": "ok",
     "timestamp": 1739186490416,
     "user": {
      "displayName": "Diogo Resende",
      "userId": "05706604408624562002"
     },
     "user_tz": -60
    },
    "id": "JzIdZL7SjsM5"
   },
   "outputs": [],
   "source": [
    "# Feedback Task\n",
    "feedback_task = Task(\n",
    "    description = \"Give feedback to the user on its answer\",\n",
    "    expected_output=\" Markdown answer of what was good, could be improved and how to take it to the next level\",\n",
    "    agent = coach_agent,\n",
    "    context = [interview_prep_task],\n",
    "    human_input = True\n",
    "    )"
   ]
  },
  {
   "cell_type": "markdown",
   "metadata": {
    "id": "SEuDmoWVlIWl"
   },
   "source": [
    "## Interview Prep Crew"
   ]
  },
  {
   "cell_type": "code",
   "execution_count": null,
   "metadata": {
    "colab": {
     "base_uri": "https://localhost:8080/"
    },
    "collapsed": true,
    "executionInfo": {
     "elapsed": 139303,
     "status": "ok",
     "timestamp": 1739186632775,
     "user": {
      "displayName": "Diogo Resende",
      "userId": "05706604408624562002"
     },
     "user_tz": -60
    },
    "id": "gv-et4WpkRat",
    "outputId": "acaae025-6d20-4802-86ae-790b81ad5c0d"
   },
   "outputs": [],
   "source": [
    "# Assemble the interview Prep Crew\n",
    "crew = Crew(\n",
    "    agents = [interviewer_agent, coach_agent],\n",
    "    tasks = [interview_prep_task, feedback_task],\n",
    "    verbose = True,\n",
    "    process = Process.sequential)\n",
    "result = crew.kickoff({\"topic\": f\"Ask me all questions from {questions}\"})"
   ]
  },
  {
   "cell_type": "code",
   "execution_count": null,
   "metadata": {
    "colab": {
     "base_uri": "https://localhost:8080/"
    },
    "executionInfo": {
     "elapsed": 293598,
     "status": "ok",
     "timestamp": 1739187258069,
     "user": {
      "displayName": "Diogo Resende",
      "userId": "05706604408624562002"
     },
     "user_tz": -60
    },
    "id": "2uyLVXrGna7r",
    "outputId": "912c693d-0d5e-4d98-d9d1-0ebeab37fd55"
   },
   "outputs": [],
   "source": [
    "# Assemble the interview Prep Crew\n",
    "crew = Crew(\n",
    "    agents = [interviewer_agent, coach_agent],\n",
    "    tasks = [interview_prep_task, feedback_task],\n",
    "    verbose = True,\n",
    "    process = Process.hierarchical,\n",
    "    manager_llm = ChatOpenAI(model_name = \"gpt-4o\", temperature  = 0),\n",
    "    memory = True,\n",
    "    planning = True)\n",
    "result = crew.kickoff({\"topic\": f\"Ask me all questions from {questions}\"})"
   ]
  }
 ],
 "metadata": {
  "colab": {
   "authorship_tag": "ABX9TyNhUW7rGf1Gld4y26kAU2eC",
   "mount_file_id": "1XbwcnNZXJJv_WnvJidsxzE2lI6Sq38LK",
   "provenance": []
  },
  "kernelspec": {
   "display_name": ".venv",
   "language": "python",
   "name": "python3"
  },
  "language_info": {
   "codemirror_mode": {
    "name": "ipython",
    "version": 3
   },
   "file_extension": ".py",
   "mimetype": "text/x-python",
   "name": "python",
   "nbconvert_exporter": "python",
   "pygments_lexer": "ipython3",
   "version": "3.11.12"
  }
 },
 "nbformat": 4,
 "nbformat_minor": 0
}
