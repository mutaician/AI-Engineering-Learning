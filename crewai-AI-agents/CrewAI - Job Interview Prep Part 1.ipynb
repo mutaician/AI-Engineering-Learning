{
 "cells": [
  {
   "cell_type": "markdown",
   "metadata": {
    "id": "wbSHhG0jG_P7"
   },
   "source": [
    "# Setup"
   ]
  },
  {
   "cell_type": "code",
   "execution_count": null,
   "metadata": {
    "executionInfo": {
     "elapsed": 1221,
     "status": "ok",
     "timestamp": 1738406663750,
     "user": {
      "displayName": "Diogo Resende",
      "userId": "05706604408624562002"
     },
     "user_tz": -60
    },
    "id": "3BGgmZR5G4hf"
   },
   "outputs": [],
   "source": [
    "# from google.colab import userdata\n",
    "# openai_api_key = userdata.get('ai_agents_openai')"
   ]
  },
  {
   "cell_type": "code",
   "execution_count": null,
   "metadata": {
    "colab": {
     "base_uri": "https://localhost:8080/"
    },
    "collapsed": true,
    "executionInfo": {
     "elapsed": 74323,
     "status": "ok",
     "timestamp": 1738407004206,
     "user": {
      "displayName": "Diogo Resende",
      "userId": "05706604408624562002"
     },
     "user_tz": -60
    },
    "id": "nFrm0L9GGvk2",
    "outputId": "31964a66-c89c-4ea9-cca1-1ab09743f317"
   },
   "outputs": [],
   "source": [
    "# !pip install 'crewai[tools]' -q"
   ]
  },
  {
   "cell_type": "code",
   "execution_count": 1,
   "metadata": {
    "executionInfo": {
     "elapsed": 222,
     "status": "ok",
     "timestamp": 1738414148181,
     "user": {
      "displayName": "Diogo Resende",
      "userId": "05706604408624562002"
     },
     "user_tz": -60
    },
    "id": "IofSaOhjIKNU"
   },
   "outputs": [],
   "source": [
    "# Import libraries\n",
    "# from langchain_openai import ChatOpenAI\n",
    "from crewai import Agent, Process, Crew, Task, LLM\n",
    "from IPython.display import display, Markdown\n",
    "import os\n",
    "from crewai.knowledge.source.string_knowledge_source import StringKnowledgeSource\n",
    "from langchain_google_genai import ChatGoogleGenerativeAI\n",
    "import dotenv"
   ]
  },
  {
   "cell_type": "code",
   "execution_count": null,
   "metadata": {
    "executionInfo": {
     "elapsed": 648,
     "status": "ok",
     "timestamp": 1738407051849,
     "user": {
      "displayName": "Diogo Resende",
      "userId": "05706604408624562002"
     },
     "user_tz": -60
    },
    "id": "gv0AE_Y4Iixh"
   },
   "outputs": [],
   "source": [
    "# Set the API keys as environment variables\n",
    "# os.environ['OPENAI_API_KEY'] = openai_api_key\n",
    "\n",
    "# Load environment variables from .env file\n",
    "dotenv.load_dotenv()\n",
    "# Set the API keys as environment variables\n",
    "os.environ['GEMINI_API_KEY'] = os.getenv('GEMINI_API_KEY')\n"
   ]
  },
  {
   "cell_type": "code",
   "execution_count": 3,
   "metadata": {
    "executionInfo": {
     "elapsed": 283,
     "status": "ok",
     "timestamp": 1738407078785,
     "user": {
      "displayName": "Diogo Resende",
      "userId": "05706604408624562002"
     },
     "user_tz": -60
    },
    "id": "UedDi_oFIn5g"
   },
   "outputs": [
    {
     "data": {
      "text/plain": [
       "'I am a large language model, trained by Google.'"
      ]
     },
     "execution_count": 3,
     "metadata": {},
     "output_type": "execute_result"
    }
   ],
   "source": [
    "# Define the LLM\n",
    "# llm = ChatOpenAI(model_name = \"gpt-4o\", temperature = 0.5)\n",
    "\n",
    "# llm = ChatGoogleGenerativeAI(model=\"gemini-2.0-flash\", temperature=0.5)\n",
    "llm = LLM(\n",
    "    model=\"gemini/gemini-2.5-flash-preview-04-17\",\n",
    "    temperature=0.5\n",
    ")\n",
    "\n",
    "llm.call(\"Hello, what model are you\")"
   ]
  },
  {
   "cell_type": "markdown",
   "metadata": {
    "id": "904j-qcXJMW8"
   },
   "source": [
    "# Get the data\n",
    "\n",
    "*   Interviewer\n",
    "*   company\n",
    "*   job position\n",
    "*   job description\n",
    "\n"
   ]
  },
  {
   "cell_type": "code",
   "execution_count": 4,
   "metadata": {
    "colab": {
     "base_uri": "https://localhost:8080/"
    },
    "executionInfo": {
     "elapsed": 91860,
     "status": "ok",
     "timestamp": 1738407536114,
     "user": {
      "displayName": "Diogo Resende",
      "userId": "05706604408624562002"
     },
     "user_tz": -60
    },
    "id": "se7wJtvmIukS",
    "outputId": "e78b119e-e384-4dd0-9ce3-00a8b9952fd9"
   },
   "outputs": [],
   "source": [
    "# Store the data\n",
    "interviewer = input(\"Enter the name of the interviewer: \")\n",
    "company = input(\"Enter the name of the company: \")\n",
    "job_position = input(\"Enter the job position: \")\n",
    "job_description = input(\"Enter the job description: \")"
   ]
  },
  {
   "cell_type": "code",
   "execution_count": null,
   "metadata": {},
   "outputs": [],
   "source": [
    "print(f\"Interviewer: {interviewer}\")\n",
    "print(f\"Company: {company}\")\n",
    "print(f\"Job Position: {job_position}\")\n",
    "print(f\"Job Description: {job_description}\")"
   ]
  },
  {
   "cell_type": "markdown",
   "metadata": {
    "id": "PX2YS52eMD2R"
   },
   "source": [
    "# Interviewer AI Agent"
   ]
  },
  {
   "cell_type": "code",
   "execution_count": 18,
   "metadata": {
    "executionInfo": {
     "elapsed": 246,
     "status": "ok",
     "timestamp": 1738408486385,
     "user": {
      "displayName": "Diogo Resende",
      "userId": "05706604408624562002"
     },
     "user_tz": -60
    },
    "id": "yt6qNHzYMFhp"
   },
   "outputs": [],
   "source": [
    "# Create the interver AI agent\n",
    "interviewer_agent = Agent(\n",
    "    role = f\" You are {interviewer}, employed at {company}, and hiring for job position {job_position}\",\n",
    "    goal = f\" you help the user user prepare for the job interview for job {job_position} with the following description: {job_description}\",\n",
    "    backstory = \"\"\"\n",
    "    ## Experience\n",
    "\n",
    "    Sensay\n",
    "    Chief Human Resources Officer\n",
    "    Full-time\n",
    "    Mar 2024 - Present · 1 yr 2 mos\n",
    "    Remote\n",
    "    Scaling talent and building a world-class people experience at Sensay, fueling our rapid growth in the AI space.\n",
    "    Talent Acquisition: Lead recruiting efforts to identify and attract top talent aligned with our mission.\n",
    "    Employee Development: Implement training and development programs to enhance employee skills and career growth.\n",
    "    Culture Building: Foster an inclusive and innovative workplace culture that supports our digital legacy mission.\n",
    "    Performance Management: Oversee performance evaluation processes to ensure organizational goals are met.\n",
    "    HR Strategy: Develop and execute HR strategies that align with business objectives and drive organizational success.\n",
    "    Employee Engagement: Promote initiatives that enhance employee satisfaction and retention.\n",
    "    Compliance: Ensure all HR practices comply with legal regulations and industry standards.\n",
    "    Human Resources (HR), Talent Management\n",
    "\n",
    "    KOLZ\n",
    "    CHRO Advisor\n",
    "    Contract\n",
    "    Aug 2024 - Present · 9 mos\n",
    "    Remote\n",
    "    24/7 Chat With the Best Key Opinion Leaders Powered by AI\n",
    "    Sensay Labs introduces a groundbreaking service that allows users to engage in 24/7 chat with digital replicas of key opinion leaders (KOLs) in various fields. This innovative platform leverages advanced AI technology to replicate the knowledge, personality, and communication style of these experts, providing users with personalized, consistent, and knowledgeable support around the clock\n",
    "\n",
    "    MagicCraft Ltd.\n",
    "    2 yrs 11 mos total\n",
    "    Chief Human Resources Officer\n",
    "    Freelance\n",
    "    Nov 2023 - Jan 2025 · 1 yr 3 mos\n",
    "    Remote\n",
    "    Overseeing HR and TA departments and developing strategies and policies that promote sustainable growth\n",
    "    Human Resources Business Partner\n",
    "    Contract\n",
    "    Feb 2023 - Nov 2023 · 10 mos\n",
    "    Remote\n",
    "    Head of HR/TA\n",
    "    Driving the full spectrum of recruiting and selection activities.\n",
    "    Creating and implementing talent acquisition strategies for leadership, mid-career and graduate hiring.\n",
    "    Partnering with leaders within the organization to track the ongoing hiring needs of their business.\n",
    "    Managing end-to-end recruitment.\n",
    "    Staying up-to-date with industry trends, best practices, and emerging recruitment technologies, incorporating innovative approaches into our talent acquisition efforts.\n",
    "    Developing the TA agenda.\n",
    "    Developing the HR agenda.\n",
    "    Developing HR strategies, policies, and practices.\n",
    "    Improving and monitoring employee productivity.\n",
    "    Structuring compensation and benefit packages.\n",
    "    Managing staff wellness initiatives.\n",
    "    Improving relations between staff and employers.\n",
    "    Evaluating staffing needs.\n",
    "    Overseeing recruitment efforts.\n",
    "    Managing and allocating HR funds.\n",
    "    Engaging with heads of department.\n",
    "    Startup Environments, Cash Flow\n",
    "    Talent Acquisition Manager\n",
    "    Contract\n",
    "    Jun 2022 - Feb 2023 · 9 mos\n",
    "    Startup Environments, Cash Flow\n",
    "\n",
    "    Chatgod.ai\n",
    "    Human Resources Business Partner Consultant\n",
    "    Contract\n",
    "    Mar 2023 - Sep 2023 · 7 mos\n",
    "    Remote\n",
    "    ChatGod.ai is a Company Under the same Lab of MagicCraft Brand\n",
    "    Startup Environments, Cash Flow\n",
    "\n",
    "    Carrier Commercial Refrigeration\n",
    "    Full-time · 1 yr 6 mos total\n",
    "    Country Lead\n",
    "    Apr 2022 - Nov 2022 · 8 mos\n",
    "    Praga, Cechia\n",
    "    EMEA HR manager, Leading a team of 8 HRs specialist for France/Benelux countries.\n",
    "    Cash Flow, HR Analytics\n",
    "    Senior Human Resources Specialist\n",
    "    Jun 2021 - Apr 2022 · 11 mos\n",
    "    Prague, Czechia\n",
    "    \"\"\",\n",
    "    llm = llm\n",
    ")"
   ]
  },
  {
   "cell_type": "code",
   "execution_count": 19,
   "metadata": {
    "executionInfo": {
     "elapsed": 2,
     "status": "ok",
     "timestamp": 1738414487366,
     "user": {
      "displayName": "Diogo Resende",
      "userId": "05706604408624562002"
     },
     "user_tz": -60
    },
    "id": "ILETaPP4NcfP"
   },
   "outputs": [],
   "source": [
    "# Define the interview prep task\n",
    "interview_prep_task = Task(\n",
    "    description = f\"\"\"\n",
    "    Interview the user for the job {job_position} with the following description: {job_description}\n",
    "    \"\"\",\n",
    "    expected_output = f\"\"\"\n",
    "    ask only one question to the user that is relevant for the job {job_position} that has not been asked before\n",
    "    \"\"\",\n",
    "    agent = interviewer_agent\n",
    ")"
   ]
  },
  {
   "cell_type": "markdown",
   "metadata": {},
   "source": [
    "Test Crew"
   ]
  },
  {
   "cell_type": "code",
   "execution_count": null,
   "metadata": {},
   "outputs": [],
   "source": [
    "test_crew = Crew(\n",
    "    agents=[interviewer_agent],\n",
    "    tasks=[interview_prep_task],\n",
    "    verbose=True,\n",
    "    process=Process.sequential\n",
    ")\n",
    "\n",
    "result = test_crew.kickoff()\n",
    "result"
   ]
  },
  {
   "cell_type": "markdown",
   "metadata": {
    "id": "QEm6sySSheYU"
   },
   "source": [
    "# AI Coach"
   ]
  },
  {
   "cell_type": "code",
   "execution_count": 7,
   "metadata": {
    "executionInfo": {
     "elapsed": 218,
     "status": "ok",
     "timestamp": 1738413701716,
     "user": {
      "displayName": "Diogo Resende",
      "userId": "05706604408624562002"
     },
     "user_tz": -60
    },
    "id": "l1C6yVFkhgVg"
   },
   "outputs": [],
   "source": [
    "# Build the AI interview coach agent\n",
    "coach_agent = Agent(\n",
    "    role = \"Interview Coach\",\n",
    "    goal = f\"I help the user prepare for the job interview for job {job_position} by grading the relevance of the answer\",\n",
    "    backstory = \"You are an pro expert in AI Engineering job interviews\",\n",
    "    llm = llm)"
   ]
  },
  {
   "cell_type": "code",
   "execution_count": 12,
   "metadata": {
    "executionInfo": {
     "elapsed": 232,
     "status": "ok",
     "timestamp": 1738413861496,
     "user": {
      "displayName": "Diogo Resende",
      "userId": "05706604408624562002"
     },
     "user_tz": -60
    },
    "id": "OqcLUxQwhgKA"
   },
   "outputs": [],
   "source": [
    "# Define the Coaching Task\n",
    "coaching_task = Task(\n",
    "    description = \"\"\" Give feedback to the user on its answer \"\"\",\n",
    "    expected_output = f\"\"\" Give feedback to the user on its answer with a bullet points on what was good, bad, and how to take it to the next level\"\"\",\n",
    "    agent = coach_agent,\n",
    "    context = [interview_prep_task],\n",
    "    human_input=True\n",
    ")"
   ]
  },
  {
   "cell_type": "code",
   "execution_count": null,
   "metadata": {},
   "outputs": [],
   "source": [
    "test_crew1 = Crew(\n",
    "    agents=[interviewer_agent, coach_agent],\n",
    "    tasks = [interview_prep_task, coaching_task],\n",
    "    verbose=True,\n",
    ")\n",
    "\n",
    "result = test_crew1.kickoff()"
   ]
  },
  {
   "cell_type": "markdown",
   "metadata": {
    "id": "3OTsSYKiPNeb"
   },
   "source": [
    "# AI Crew"
   ]
  },
  {
   "cell_type": "code",
   "execution_count": null,
   "metadata": {
    "executionInfo": {
     "elapsed": 227,
     "status": "ok",
     "timestamp": 1738414315277,
     "user": {
      "displayName": "Diogo Resende",
      "userId": "05706604408624562002"
     },
     "user_tz": -60
    },
    "id": "X24KiRY9j4Zx"
   },
   "outputs": [],
   "source": [
    "# Create an empty list for questions\n",
    "interview_questions = []\n",
    "# # Store each question\n",
    "# interview_questions.append(result.tasks_output[0].raw)\n",
    "# interview_content = ' '.join(interview_questions)\n",
    "# string_source = StringKnowledgeSource(content = interview_content)\n"
   ]
  },
  {
   "cell_type": "code",
   "execution_count": null,
   "metadata": {
    "colab": {
     "base_uri": "https://localhost:8080/"
    },
    "executionInfo": {
     "elapsed": 54320,
     "status": "ok",
     "timestamp": 1738414548716,
     "user": {
      "displayName": "Diogo Resende",
      "userId": "05706604408624562002"
     },
     "user_tz": -60
    },
    "id": "TyK25rEXNTTy",
    "outputId": "baf2ebc5-3c65-4164-f104-4e45d4b94dcc"
   },
   "outputs": [
    {
     "ename": "ValidationError",
     "evalue": "1 validation error for Crew\n  Value error, Please provide an OpenAI API key. You can get one at https://platform.openai.com/account/api-keys [type=value_error, input_value={'agents': [Agent(role= Y...ntial'>, 'memory': True}, input_type=dict]\n    For further information visit https://errors.pydantic.dev/2.11/v/value_error",
     "output_type": "error",
     "traceback": [
      "\u001b[31m---------------------------------------------------------------------------\u001b[39m",
      "\u001b[31mValidationError\u001b[39m                           Traceback (most recent call last)",
      "\u001b[36mCell\u001b[39m\u001b[36m \u001b[39m\u001b[32mIn[15]\u001b[39m\u001b[32m, line 1\u001b[39m\n\u001b[32m----> \u001b[39m\u001b[32m1\u001b[39m crew = \u001b[43mCrew\u001b[49m\u001b[43m(\u001b[49m\n\u001b[32m      2\u001b[39m \u001b[43m    \u001b[49m\u001b[43magents\u001b[49m\u001b[43m \u001b[49m\u001b[43m=\u001b[49m\u001b[43m \u001b[49m\u001b[43m[\u001b[49m\u001b[43minterviewer_agent\u001b[49m\u001b[43m,\u001b[49m\u001b[43m \u001b[49m\u001b[43mcoach_agent\u001b[49m\u001b[43m]\u001b[49m\u001b[43m,\u001b[49m\n\u001b[32m      3\u001b[39m \u001b[43m    \u001b[49m\u001b[43mtasks\u001b[49m\u001b[43m \u001b[49m\u001b[43m=\u001b[49m\u001b[43m \u001b[49m\u001b[43m[\u001b[49m\u001b[43minterview_prep_task\u001b[49m\u001b[43m,\u001b[49m\u001b[43m \u001b[49m\u001b[43mcoaching_task\u001b[49m\u001b[43m]\u001b[49m\u001b[43m,\u001b[49m\n\u001b[32m      4\u001b[39m \u001b[43m    \u001b[49m\u001b[43mverbose\u001b[49m\u001b[43m \u001b[49m\u001b[43m=\u001b[49m\u001b[43m \u001b[49m\u001b[38;5;28;43;01mTrue\u001b[39;49;00m\u001b[43m,\u001b[49m\n\u001b[32m      5\u001b[39m \u001b[43m    \u001b[49m\u001b[43mprocess\u001b[49m\u001b[43m \u001b[49m\u001b[43m=\u001b[49m\u001b[43m \u001b[49m\u001b[43mProcess\u001b[49m\u001b[43m.\u001b[49m\u001b[43msequential\u001b[49m\u001b[43m,\u001b[49m\n\u001b[32m      6\u001b[39m \u001b[43m    \u001b[49m\u001b[43mmemory\u001b[49m\u001b[43m \u001b[49m\u001b[43m=\u001b[49m\u001b[43m \u001b[49m\u001b[38;5;28;43;01mTrue\u001b[39;49;00m\u001b[43m,\u001b[49m\n\u001b[32m      7\u001b[39m \u001b[43m    \u001b[49m\u001b[38;5;66;43;03m# knowledge_sources = [string_source]\u001b[39;49;00m\n\u001b[32m      8\u001b[39m \u001b[43m)\u001b[49m\n\u001b[32m      9\u001b[39m result = crew.kickoff()\n\u001b[32m     11\u001b[39m \u001b[38;5;66;03m# # Store each question\u001b[39;00m\n\u001b[32m     12\u001b[39m \u001b[38;5;66;03m# interview_questions.append(result.tasks_output[0].raw)\u001b[39;00m\n\u001b[32m     13\u001b[39m \u001b[38;5;66;03m# interview_content = ' '.join(interview_questions)\u001b[39;00m\n\u001b[32m     14\u001b[39m \u001b[38;5;66;03m# string_source = StringKnowledgeSource(content = interview_content)\u001b[39;00m\n",
      "\u001b[36mFile \u001b[39m\u001b[32m~/AIEngineerLearning/crewai-AI-agents/.venv/lib/python3.11/site-packages/pydantic/main.py:253\u001b[39m, in \u001b[36mBaseModel.__init__\u001b[39m\u001b[34m(self, **data)\u001b[39m\n\u001b[32m    251\u001b[39m \u001b[38;5;66;03m# `__tracebackhide__` tells pytest and some other tools to omit this function from tracebacks\u001b[39;00m\n\u001b[32m    252\u001b[39m __tracebackhide__ = \u001b[38;5;28;01mTrue\u001b[39;00m\n\u001b[32m--> \u001b[39m\u001b[32m253\u001b[39m validated_self = \u001b[38;5;28;43mself\u001b[39;49m\u001b[43m.\u001b[49m\u001b[43m__pydantic_validator__\u001b[49m\u001b[43m.\u001b[49m\u001b[43mvalidate_python\u001b[49m\u001b[43m(\u001b[49m\u001b[43mdata\u001b[49m\u001b[43m,\u001b[49m\u001b[43m \u001b[49m\u001b[43mself_instance\u001b[49m\u001b[43m=\u001b[49m\u001b[38;5;28;43mself\u001b[39;49m\u001b[43m)\u001b[49m\n\u001b[32m    254\u001b[39m \u001b[38;5;28;01mif\u001b[39;00m \u001b[38;5;28mself\u001b[39m \u001b[38;5;129;01mis\u001b[39;00m \u001b[38;5;129;01mnot\u001b[39;00m validated_self:\n\u001b[32m    255\u001b[39m     warnings.warn(\n\u001b[32m    256\u001b[39m         \u001b[33m'\u001b[39m\u001b[33mA custom validator is returning a value other than `self`.\u001b[39m\u001b[38;5;130;01m\\n\u001b[39;00m\u001b[33m'\u001b[39m\n\u001b[32m    257\u001b[39m         \u001b[33m\"\u001b[39m\u001b[33mReturning anything other than `self` from a top level model validator isn\u001b[39m\u001b[33m'\u001b[39m\u001b[33mt supported when validating via `__init__`.\u001b[39m\u001b[38;5;130;01m\\n\u001b[39;00m\u001b[33m\"\u001b[39m\n\u001b[32m    258\u001b[39m         \u001b[33m'\u001b[39m\u001b[33mSee the `model_validator` docs (https://docs.pydantic.dev/latest/concepts/validators/#model-validators) for more details.\u001b[39m\u001b[33m'\u001b[39m,\n\u001b[32m    259\u001b[39m         stacklevel=\u001b[32m2\u001b[39m,\n\u001b[32m    260\u001b[39m     )\n",
      "\u001b[31mValidationError\u001b[39m: 1 validation error for Crew\n  Value error, Please provide an OpenAI API key. You can get one at https://platform.openai.com/account/api-keys [type=value_error, input_value={'agents': [Agent(role= Y...ntial'>, 'memory': True}, input_type=dict]\n    For further information visit https://errors.pydantic.dev/2.11/v/value_error"
     ]
    }
   ],
   "source": [
    "crew = Crew(\n",
    "    agents = [interviewer_agent, coach_agent],\n",
    "    tasks = [interview_prep_task, coaching_task],\n",
    "    verbose = True,\n",
    "    process = Process.sequential,\n",
    "    memory = True,\n",
    "    # knowledge_sources = [string_source]\n",
    ")\n",
    "result = crew.kickoff()\n",
    "\n",
    "# # Store each question\n",
    "# interview_questions.append(result.tasks_output[0].raw)\n",
    "# interview_content = ' '.join(interview_questions)\n",
    "# string_source = StringKnowledgeSource(content = interview_content)"
   ]
  },
  {
   "cell_type": "code",
   "execution_count": null,
   "metadata": {
    "colab": {
     "base_uri": "https://localhost:8080/",
     "height": 64
    },
    "executionInfo": {
     "elapsed": 253,
     "status": "ok",
     "timestamp": 1738414157194,
     "user": {
      "displayName": "Diogo Resende",
      "userId": "05706604408624562002"
     },
     "user_tz": -60
    },
    "id": "g_8RzyeMPgSR",
    "outputId": "4f5ac01f-676d-479f-c542-24f425e92590"
   },
   "outputs": [],
   "source": [
    "# Check output\n",
    "display(Markdown(result.tasks_output[0].raw))"
   ]
  },
  {
   "cell_type": "code",
   "execution_count": 20,
   "metadata": {},
   "outputs": [
    {
     "data": {
      "text/html": [
       "<pre style=\"white-space:pre;overflow-x:auto;line-height:normal;font-family:Menlo,'DejaVu Sans Mono',consolas,'Courier New',monospace\"><span style=\"color: #008080; text-decoration-color: #008080\">╭──────────────────────────────────────────── Crew Execution Started ─────────────────────────────────────────────╮</span>\n",
       "<span style=\"color: #008080; text-decoration-color: #008080\">│</span>                                                                                                                 <span style=\"color: #008080; text-decoration-color: #008080\">│</span>\n",
       "<span style=\"color: #008080; text-decoration-color: #008080\">│</span>  <span style=\"color: #008080; text-decoration-color: #008080; font-weight: bold\">Crew Execution Started</span>                                                                                         <span style=\"color: #008080; text-decoration-color: #008080\">│</span>\n",
       "<span style=\"color: #008080; text-decoration-color: #008080\">│</span>  <span style=\"color: #c0c0c0; text-decoration-color: #c0c0c0\">Name: </span><span style=\"color: #008080; text-decoration-color: #008080\">crew</span>                                                                                                     <span style=\"color: #008080; text-decoration-color: #008080\">│</span>\n",
       "<span style=\"color: #008080; text-decoration-color: #008080\">│</span>  <span style=\"color: #c0c0c0; text-decoration-color: #c0c0c0\">ID: </span><span style=\"color: #008080; text-decoration-color: #008080\">0aededa8-cac3-4835-84d2-1384ceb90148</span>                                                                       <span style=\"color: #008080; text-decoration-color: #008080\">│</span>\n",
       "<span style=\"color: #008080; text-decoration-color: #008080\">│</span>                                                                                                                 <span style=\"color: #008080; text-decoration-color: #008080\">│</span>\n",
       "<span style=\"color: #008080; text-decoration-color: #008080\">│</span>                                                                                                                 <span style=\"color: #008080; text-decoration-color: #008080\">│</span>\n",
       "<span style=\"color: #008080; text-decoration-color: #008080\">╰─────────────────────────────────────────────────────────────────────────────────────────────────────────────────╯</span>\n",
       "</pre>\n"
      ],
      "text/plain": [
       "\u001b[36m╭─\u001b[0m\u001b[36m───────────────────────────────────────────\u001b[0m\u001b[36m Crew Execution Started \u001b[0m\u001b[36m────────────────────────────────────────────\u001b[0m\u001b[36m─╮\u001b[0m\n",
       "\u001b[36m│\u001b[0m                                                                                                                 \u001b[36m│\u001b[0m\n",
       "\u001b[36m│\u001b[0m  \u001b[1;36mCrew Execution Started\u001b[0m                                                                                         \u001b[36m│\u001b[0m\n",
       "\u001b[36m│\u001b[0m  \u001b[37mName: \u001b[0m\u001b[36mcrew\u001b[0m                                                                                                     \u001b[36m│\u001b[0m\n",
       "\u001b[36m│\u001b[0m  \u001b[37mID: \u001b[0m\u001b[36m0aededa8-cac3-4835-84d2-1384ceb90148\u001b[0m                                                                       \u001b[36m│\u001b[0m\n",
       "\u001b[36m│\u001b[0m                                                                                                                 \u001b[36m│\u001b[0m\n",
       "\u001b[36m│\u001b[0m                                                                                                                 \u001b[36m│\u001b[0m\n",
       "\u001b[36m╰─────────────────────────────────────────────────────────────────────────────────────────────────────────────────╯\u001b[0m\n"
      ]
     },
     "metadata": {},
     "output_type": "display_data"
    },
    {
     "data": {
      "text/html": [
       "<pre style=\"white-space:pre;overflow-x:auto;line-height:normal;font-family:Menlo,'DejaVu Sans Mono',consolas,'Courier New',monospace\">\n",
       "</pre>\n"
      ],
      "text/plain": [
       "\n"
      ]
     },
     "metadata": {},
     "output_type": "display_data"
    },
    {
     "data": {
      "text/html": [
       "<pre style=\"white-space:pre;overflow-x:auto;line-height:normal;font-family:Menlo,'DejaVu Sans Mono',consolas,'Courier New',monospace\"><span style=\"color: #008080; text-decoration-color: #008080; font-weight: bold\">🚀 Crew: crew</span>\n",
       "└── <span style=\"color: #808000; text-decoration-color: #808000; font-weight: bold\">📋 Task: 2424132f-0697-41e2-a73a-23c13017a7cd</span>\n",
       "    <span style=\"color: #c0c0c0; text-decoration-color: #c0c0c0\">   Status: </span><span style=\"color: #bfbf7f; text-decoration-color: #bfbf7f\">Executing Task...</span>\n",
       "</pre>\n"
      ],
      "text/plain": [
       "\u001b[1;36m🚀 Crew: \u001b[0m\u001b[1;36mcrew\u001b[0m\n",
       "└── \u001b[1;33m📋 Task: 2424132f-0697-41e2-a73a-23c13017a7cd\u001b[0m\n",
       "    \u001b[37m   Status: \u001b[0m\u001b[2;33mExecuting Task...\u001b[0m\n"
      ]
     },
     "metadata": {},
     "output_type": "display_data"
    },
    {
     "data": {
      "text/html": [
       "<pre style=\"white-space:pre;overflow-x:auto;line-height:normal;font-family:Menlo,'DejaVu Sans Mono',consolas,'Courier New',monospace\">\n",
       "</pre>\n"
      ],
      "text/plain": [
       "\n"
      ]
     },
     "metadata": {},
     "output_type": "display_data"
    },
    {
     "data": {
      "text/html": [
       "<pre style=\"white-space:pre;overflow-x:auto;line-height:normal;font-family:Menlo,'DejaVu Sans Mono',consolas,'Courier New',monospace\"><span style=\"color: #008080; text-decoration-color: #008080; font-weight: bold\">🚀 Crew: crew</span>\n",
       "└── <span style=\"color: #808000; text-decoration-color: #808000; font-weight: bold\">📋 Task: 2424132f-0697-41e2-a73a-23c13017a7cd</span>\n",
       "    <span style=\"color: #c0c0c0; text-decoration-color: #c0c0c0\">   Status: </span><span style=\"color: #bfbf7f; text-decoration-color: #bfbf7f\">Executing Task...</span>\n",
       "    └── <span style=\"color: #008000; text-decoration-color: #008000; font-weight: bold\">🤖 Agent: </span><span style=\"color: #008000; text-decoration-color: #008000\"> You are  Alessandro Huaroto , employed at Sensay, and hiring for job position Artificial </span>\n",
       "        <span style=\"color: #008000; text-decoration-color: #008000\">Intelligence Engineer</span>\n",
       "        <span style=\"color: #c0c0c0; text-decoration-color: #c0c0c0\">    Status: </span><span style=\"color: #008000; text-decoration-color: #008000; font-weight: bold\">In Progress</span>\n",
       "</pre>\n"
      ],
      "text/plain": [
       "\u001b[1;36m🚀 Crew: \u001b[0m\u001b[1;36mcrew\u001b[0m\n",
       "└── \u001b[1;33m📋 Task: 2424132f-0697-41e2-a73a-23c13017a7cd\u001b[0m\n",
       "    \u001b[37m   Status: \u001b[0m\u001b[2;33mExecuting Task...\u001b[0m\n",
       "    └── \u001b[1;32m🤖 Agent: \u001b[0m\u001b[32m You are  Alessandro Huaroto , employed at Sensay, and hiring for job position Artificial \u001b[0m\n",
       "        \u001b[32mIntelligence Engineer\u001b[0m\n",
       "        \u001b[37m    Status: \u001b[0m\u001b[1;32mIn Progress\u001b[0m\n"
      ]
     },
     "metadata": {},
     "output_type": "display_data"
    },
    {
     "data": {
      "text/html": [
       "<pre style=\"white-space:pre;overflow-x:auto;line-height:normal;font-family:Menlo,'DejaVu Sans Mono',consolas,'Courier New',monospace\">\n",
       "</pre>\n"
      ],
      "text/plain": [
       "\n"
      ]
     },
     "metadata": {},
     "output_type": "display_data"
    },
    {
     "name": "stdout",
     "output_type": "stream",
     "text": [
      "\u001b[1m\u001b[95m# Agent:\u001b[00m \u001b[1m\u001b[92m You are  Alessandro Huaroto , employed at Sensay, and hiring for job position Artificial Intelligence Engineer\u001b[00m\n",
      "\u001b[95m## Task:\u001b[00m \u001b[92m\n",
      "    Interview the user for the job Artificial Intelligence Engineer with the following description: About the job At Sensay, we're on a mission to shape the future of AI personal replicas. As we expand our development team, we are looking for a talented AI Developer to help build outstanding features that our customers love.   Interact with Our Founder Replica: Get to know our vision by interacting with our founder replica, Dan, here.   About the Role: As an AI Developer, you will be responsible for designing, developing, and maintaining our AI systems using cutting-edge frameworks like Next.js, Supabase, and TypeScript. You will collaborate closely with product owners, UX specialists, and other developers to deliver high-quality AI solutions that meet the needs of our users.   What You'll Do: Design and Implement AI Solutions: Utilize your AI expertise to build scalable, high-quality systems that enhance our AI replicas' capabilities. Innovate Continuously: Optimize with cutting-edge frameworks like Next.js, TypeScript, Tailwind, and Supabase, as well as AI/ML systems. Collaborate with Teams: Work with cross-functional teams to define, design, and deliver new AI features and enhancements. Participate in Code Reviews: Ensure high standards of quality and best practices in AI development. Troubleshoot and Resolve Issues: Address AI-related issues, ensuring optimal performance and user experience. Stay Updated: Keep abreast of the latest industry trends and technologies to continuously improve our AI development practices.   Technical Requirements: Strong experience with Python, JavaScript, SQL Next.js, TypeScript, Tailwind, and Supabase. Proficiency in AI/ML systems and algorithms. Experience with API design and development, including RESTful services. Familiarity with databases and data modeling, particularly with Supabase. Understanding of Agile methodologies and experience working in collaborative team environments.   Work Environment: 100% remote work (EU timezone ±4 hours) True flexibility - work when you're most productive Virtual office on Gather for team collaboration Mexico City Office: Option to work from our office in Mexico City for those who prefer an in-office environment. Minimal meetings, maximum productivity.   What We Offer: Equity opportunities to share in our success Flexible working hours for work-life balance Clear career progression paths A diverse, inclusive environment that values autonomy Competitive salary and benefits package Paid sick days and holiday allowance Annual learning stipend for professional development Regular team retreats and social events And much more!\n",
      "    \u001b[00m\n",
      "\n",
      "\n",
      "\u001b[1m\u001b[95m# Agent:\u001b[00m \u001b[1m\u001b[92m You are  Alessandro Huaroto , employed at Sensay, and hiring for job position Artificial Intelligence Engineer\u001b[00m\n",
      "\u001b[95m## Final Answer:\u001b[00m \u001b[92m\n",
      "Hello, thanks for your interest in the Artificial Intelligence Engineer position at Sensay. As you know, we're building the future of AI personal replicas, which requires robust and scalable systems. Could you describe a challenging AI project you've worked on where designing for scalability was a critical factor, and how you approached that challenge from implementation to deployment?\u001b[00m\n",
      "\n",
      "\n"
     ]
    },
    {
     "data": {
      "text/html": [
       "<pre style=\"white-space:pre;overflow-x:auto;line-height:normal;font-family:Menlo,'DejaVu Sans Mono',consolas,'Courier New',monospace\"><span style=\"color: #008080; text-decoration-color: #008080; font-weight: bold\">🚀 Crew: crew</span>\n",
       "└── <span style=\"color: #808000; text-decoration-color: #808000; font-weight: bold\">📋 Task: 2424132f-0697-41e2-a73a-23c13017a7cd</span>\n",
       "    <span style=\"color: #c0c0c0; text-decoration-color: #c0c0c0\">   Status: </span><span style=\"color: #bfbf7f; text-decoration-color: #bfbf7f\">Executing Task...</span>\n",
       "    └── <span style=\"color: #008000; text-decoration-color: #008000; font-weight: bold\">🤖 Agent: </span><span style=\"color: #008000; text-decoration-color: #008000\"> You are  Alessandro Huaroto , employed at Sensay, and hiring for job position Artificial </span>\n",
       "        <span style=\"color: #008000; text-decoration-color: #008000\">Intelligence Engineer</span>\n",
       "        <span style=\"color: #c0c0c0; text-decoration-color: #c0c0c0\">    Status: </span><span style=\"color: #008000; text-decoration-color: #008000; font-weight: bold\">✅ Completed</span>\n",
       "</pre>\n"
      ],
      "text/plain": [
       "\u001b[1;36m🚀 Crew: \u001b[0m\u001b[1;36mcrew\u001b[0m\n",
       "└── \u001b[1;33m📋 Task: 2424132f-0697-41e2-a73a-23c13017a7cd\u001b[0m\n",
       "    \u001b[37m   Status: \u001b[0m\u001b[2;33mExecuting Task...\u001b[0m\n",
       "    └── \u001b[1;32m🤖 Agent: \u001b[0m\u001b[32m You are  Alessandro Huaroto , employed at Sensay, and hiring for job position Artificial \u001b[0m\n",
       "        \u001b[32mIntelligence Engineer\u001b[0m\n",
       "        \u001b[37m    Status: \u001b[0m\u001b[1;32m✅ Completed\u001b[0m\n"
      ]
     },
     "metadata": {},
     "output_type": "display_data"
    },
    {
     "data": {
      "text/html": [
       "<pre style=\"white-space:pre;overflow-x:auto;line-height:normal;font-family:Menlo,'DejaVu Sans Mono',consolas,'Courier New',monospace\">\n",
       "</pre>\n"
      ],
      "text/plain": [
       "\n"
      ]
     },
     "metadata": {},
     "output_type": "display_data"
    },
    {
     "data": {
      "text/html": [
       "<pre style=\"white-space:pre;overflow-x:auto;line-height:normal;font-family:Menlo,'DejaVu Sans Mono',consolas,'Courier New',monospace\"><span style=\"color: #008080; text-decoration-color: #008080; font-weight: bold\">🚀 Crew: crew</span>\n",
       "└── <span style=\"color: #008000; text-decoration-color: #008000; font-weight: bold\">📋 Task: 2424132f-0697-41e2-a73a-23c13017a7cd</span>\n",
       "    <span style=\"color: #c0c0c0; text-decoration-color: #c0c0c0\">   Assigned to: </span><span style=\"color: #008000; text-decoration-color: #008000\"> You are  Alessandro Huaroto , employed at Sensay, and hiring for job position Artificial </span>\n",
       "    <span style=\"color: #008000; text-decoration-color: #008000\">Intelligence Engineer</span>\n",
       "    <span style=\"color: #c0c0c0; text-decoration-color: #c0c0c0\">   Status: </span><span style=\"color: #008000; text-decoration-color: #008000; font-weight: bold\">✅ Completed</span>\n",
       "    └── <span style=\"color: #008000; text-decoration-color: #008000; font-weight: bold\">🤖 Agent: </span><span style=\"color: #008000; text-decoration-color: #008000\"> You are  Alessandro Huaroto , employed at Sensay, and hiring for job position Artificial </span>\n",
       "        <span style=\"color: #008000; text-decoration-color: #008000\">Intelligence Engineer</span>\n",
       "        <span style=\"color: #c0c0c0; text-decoration-color: #c0c0c0\">    Status: </span><span style=\"color: #008000; text-decoration-color: #008000; font-weight: bold\">✅ Completed</span>\n",
       "</pre>\n"
      ],
      "text/plain": [
       "\u001b[1;36m🚀 Crew: \u001b[0m\u001b[1;36mcrew\u001b[0m\n",
       "└── \u001b[1;32m📋 Task: 2424132f-0697-41e2-a73a-23c13017a7cd\u001b[0m\n",
       "    \u001b[37m   Assigned to: \u001b[0m\u001b[32m You are  Alessandro Huaroto , employed at Sensay, and hiring for job position Artificial \u001b[0m\n",
       "    \u001b[32mIntelligence Engineer\u001b[0m\n",
       "    \u001b[37m   Status: \u001b[0m\u001b[1;32m✅ Completed\u001b[0m\n",
       "    └── \u001b[1;32m🤖 Agent: \u001b[0m\u001b[32m You are  Alessandro Huaroto , employed at Sensay, and hiring for job position Artificial \u001b[0m\n",
       "        \u001b[32mIntelligence Engineer\u001b[0m\n",
       "        \u001b[37m    Status: \u001b[0m\u001b[1;32m✅ Completed\u001b[0m\n"
      ]
     },
     "metadata": {},
     "output_type": "display_data"
    },
    {
     "data": {
      "text/html": [
       "<pre style=\"white-space:pre;overflow-x:auto;line-height:normal;font-family:Menlo,'DejaVu Sans Mono',consolas,'Courier New',monospace\"><span style=\"color: #008000; text-decoration-color: #008000\">╭──────────────────────────────────────────────── Task Completion ────────────────────────────────────────────────╮</span>\n",
       "<span style=\"color: #008000; text-decoration-color: #008000\">│</span>                                                                                                                 <span style=\"color: #008000; text-decoration-color: #008000\">│</span>\n",
       "<span style=\"color: #008000; text-decoration-color: #008000\">│</span>  <span style=\"color: #008000; text-decoration-color: #008000; font-weight: bold\">Task Completed</span>                                                                                                 <span style=\"color: #008000; text-decoration-color: #008000\">│</span>\n",
       "<span style=\"color: #008000; text-decoration-color: #008000\">│</span>  <span style=\"color: #c0c0c0; text-decoration-color: #c0c0c0\">Name: </span><span style=\"color: #008000; text-decoration-color: #008000\">2424132f-0697-41e2-a73a-23c13017a7cd</span>                                                                     <span style=\"color: #008000; text-decoration-color: #008000\">│</span>\n",
       "<span style=\"color: #008000; text-decoration-color: #008000\">│</span>  <span style=\"color: #c0c0c0; text-decoration-color: #c0c0c0\">Agent: </span><span style=\"color: #008000; text-decoration-color: #008000\"> You are  Alessandro Huaroto , employed at Sensay, and hiring for job position Artificial Intelligence</span>  <span style=\"color: #008000; text-decoration-color: #008000\">│</span>\n",
       "<span style=\"color: #008000; text-decoration-color: #008000\">│</span>  <span style=\"color: #008000; text-decoration-color: #008000\">Engineer</span>                                                                                                       <span style=\"color: #008000; text-decoration-color: #008000\">│</span>\n",
       "<span style=\"color: #008000; text-decoration-color: #008000\">│</span>                                                                                                                 <span style=\"color: #008000; text-decoration-color: #008000\">│</span>\n",
       "<span style=\"color: #008000; text-decoration-color: #008000\">│</span>                                                                                                                 <span style=\"color: #008000; text-decoration-color: #008000\">│</span>\n",
       "<span style=\"color: #008000; text-decoration-color: #008000\">╰─────────────────────────────────────────────────────────────────────────────────────────────────────────────────╯</span>\n",
       "</pre>\n"
      ],
      "text/plain": [
       "\u001b[32m╭─\u001b[0m\u001b[32m───────────────────────────────────────────────\u001b[0m\u001b[32m Task Completion \u001b[0m\u001b[32m───────────────────────────────────────────────\u001b[0m\u001b[32m─╮\u001b[0m\n",
       "\u001b[32m│\u001b[0m                                                                                                                 \u001b[32m│\u001b[0m\n",
       "\u001b[32m│\u001b[0m  \u001b[1;32mTask Completed\u001b[0m                                                                                                 \u001b[32m│\u001b[0m\n",
       "\u001b[32m│\u001b[0m  \u001b[37mName: \u001b[0m\u001b[32m2424132f-0697-41e2-a73a-23c13017a7cd\u001b[0m                                                                     \u001b[32m│\u001b[0m\n",
       "\u001b[32m│\u001b[0m  \u001b[37mAgent: \u001b[0m\u001b[32m You are  Alessandro Huaroto , employed at Sensay, and hiring for job position Artificial Intelligence\u001b[0m  \u001b[32m│\u001b[0m\n",
       "\u001b[32m│\u001b[0m  \u001b[32mEngineer\u001b[0m                                                                                                       \u001b[32m│\u001b[0m\n",
       "\u001b[32m│\u001b[0m                                                                                                                 \u001b[32m│\u001b[0m\n",
       "\u001b[32m│\u001b[0m                                                                                                                 \u001b[32m│\u001b[0m\n",
       "\u001b[32m╰─────────────────────────────────────────────────────────────────────────────────────────────────────────────────╯\u001b[0m\n"
      ]
     },
     "metadata": {},
     "output_type": "display_data"
    },
    {
     "data": {
      "text/html": [
       "<pre style=\"white-space:pre;overflow-x:auto;line-height:normal;font-family:Menlo,'DejaVu Sans Mono',consolas,'Courier New',monospace\">\n",
       "</pre>\n"
      ],
      "text/plain": [
       "\n"
      ]
     },
     "metadata": {},
     "output_type": "display_data"
    },
    {
     "data": {
      "text/html": [
       "<pre style=\"white-space:pre;overflow-x:auto;line-height:normal;font-family:Menlo,'DejaVu Sans Mono',consolas,'Courier New',monospace\"><span style=\"color: #008000; text-decoration-color: #008000\">╭──────────────────────────────────────────────── Crew Completion ────────────────────────────────────────────────╮</span>\n",
       "<span style=\"color: #008000; text-decoration-color: #008000\">│</span>                                                                                                                 <span style=\"color: #008000; text-decoration-color: #008000\">│</span>\n",
       "<span style=\"color: #008000; text-decoration-color: #008000\">│</span>  <span style=\"color: #008000; text-decoration-color: #008000; font-weight: bold\">Crew Execution Completed</span>                                                                                       <span style=\"color: #008000; text-decoration-color: #008000\">│</span>\n",
       "<span style=\"color: #008000; text-decoration-color: #008000\">│</span>  <span style=\"color: #c0c0c0; text-decoration-color: #c0c0c0\">Name: </span><span style=\"color: #008000; text-decoration-color: #008000\">crew</span>                                                                                                     <span style=\"color: #008000; text-decoration-color: #008000\">│</span>\n",
       "<span style=\"color: #008000; text-decoration-color: #008000\">│</span>  <span style=\"color: #c0c0c0; text-decoration-color: #c0c0c0\">ID: </span><span style=\"color: #008000; text-decoration-color: #008000\">0aededa8-cac3-4835-84d2-1384ceb90148</span>                                                                       <span style=\"color: #008000; text-decoration-color: #008000\">│</span>\n",
       "<span style=\"color: #008000; text-decoration-color: #008000\">│</span>                                                                                                                 <span style=\"color: #008000; text-decoration-color: #008000\">│</span>\n",
       "<span style=\"color: #008000; text-decoration-color: #008000\">│</span>                                                                                                                 <span style=\"color: #008000; text-decoration-color: #008000\">│</span>\n",
       "<span style=\"color: #008000; text-decoration-color: #008000\">╰─────────────────────────────────────────────────────────────────────────────────────────────────────────────────╯</span>\n",
       "</pre>\n"
      ],
      "text/plain": [
       "\u001b[32m╭─\u001b[0m\u001b[32m───────────────────────────────────────────────\u001b[0m\u001b[32m Crew Completion \u001b[0m\u001b[32m───────────────────────────────────────────────\u001b[0m\u001b[32m─╮\u001b[0m\n",
       "\u001b[32m│\u001b[0m                                                                                                                 \u001b[32m│\u001b[0m\n",
       "\u001b[32m│\u001b[0m  \u001b[1;32mCrew Execution Completed\u001b[0m                                                                                       \u001b[32m│\u001b[0m\n",
       "\u001b[32m│\u001b[0m  \u001b[37mName: \u001b[0m\u001b[32mcrew\u001b[0m                                                                                                     \u001b[32m│\u001b[0m\n",
       "\u001b[32m│\u001b[0m  \u001b[37mID: \u001b[0m\u001b[32m0aededa8-cac3-4835-84d2-1384ceb90148\u001b[0m                                                                       \u001b[32m│\u001b[0m\n",
       "\u001b[32m│\u001b[0m                                                                                                                 \u001b[32m│\u001b[0m\n",
       "\u001b[32m│\u001b[0m                                                                                                                 \u001b[32m│\u001b[0m\n",
       "\u001b[32m╰─────────────────────────────────────────────────────────────────────────────────────────────────────────────────╯\u001b[0m\n"
      ]
     },
     "metadata": {},
     "output_type": "display_data"
    },
    {
     "data": {
      "text/html": [
       "<pre style=\"white-space:pre;overflow-x:auto;line-height:normal;font-family:Menlo,'DejaVu Sans Mono',consolas,'Courier New',monospace\">\n",
       "</pre>\n"
      ],
      "text/plain": [
       "\n"
      ]
     },
     "metadata": {},
     "output_type": "display_data"
    },
    {
     "data": {
      "text/markdown": [
       "Hello, thanks for your interest in the Artificial Intelligence Engineer position at Sensay. As you know, we're building the future of AI personal replicas, which requires robust and scalable systems. Could you describe a challenging AI project you've worked on where designing for scalability was a critical factor, and how you approached that challenge from implementation to deployment?"
      ],
      "text/plain": [
       "<IPython.core.display.Markdown object>"
      ]
     },
     "metadata": {},
     "output_type": "display_data"
    },
    {
     "ename": "AttributeError",
     "evalue": "'StringKnowledgeSource' object has no attribute 'get'",
     "output_type": "error",
     "traceback": [
      "\u001b[31m---------------------------------------------------------------------------\u001b[39m",
      "\u001b[31mAttributeError\u001b[39m                            Traceback (most recent call last)",
      "\u001b[36mCell\u001b[39m\u001b[36m \u001b[39m\u001b[32mIn[20]\u001b[39m\u001b[32m, line 20\u001b[39m\n\u001b[32m     16\u001b[39m \u001b[38;5;28;01mfrom\u001b[39;00m\u001b[38;5;250m \u001b[39m\u001b[34;01mcrewai\u001b[39;00m\u001b[34;01m.\u001b[39;00m\u001b[34;01mknowledge\u001b[39;00m\u001b[34;01m.\u001b[39;00m\u001b[34;01msource\u001b[39;00m\u001b[34;01m.\u001b[39;00m\u001b[34;01mstring_knowledge_source\u001b[39;00m\u001b[38;5;250m \u001b[39m\u001b[38;5;28;01mimport\u001b[39;00m StringKnowledgeSource\n\u001b[32m     18\u001b[39m qa_source = StringKnowledgeSource(content=\u001b[33mf\u001b[39m\u001b[33m\"\u001b[39m\u001b[33mQ: \u001b[39m\u001b[38;5;132;01m{\u001b[39;00mquestion\u001b[38;5;132;01m}\u001b[39;00m\u001b[38;5;130;01m\\n\u001b[39;00m\u001b[33mA: \u001b[39m\u001b[38;5;132;01m{\u001b[39;00muser_answer\u001b[38;5;132;01m}\u001b[39;00m\u001b[33m\"\u001b[39m)\n\u001b[32m---> \u001b[39m\u001b[32m20\u001b[39m coaching_task = \u001b[43mTask\u001b[49m\u001b[43m(\u001b[49m\n\u001b[32m     21\u001b[39m \u001b[43m    \u001b[49m\u001b[43mdescription\u001b[49m\u001b[43m      \u001b[49m\u001b[43m=\u001b[49m\u001b[43m \u001b[49m\u001b[33;43m\"\u001b[39;49m\u001b[33;43mCoach: give feedback to the answer above\u001b[39;49m\u001b[33;43m\"\u001b[39;49m\u001b[43m,\u001b[49m\n\u001b[32m     22\u001b[39m \u001b[43m    \u001b[49m\u001b[43mexpected_output\u001b[49m\u001b[43m  \u001b[49m\u001b[43m=\u001b[49m\u001b[43m \u001b[49m\u001b[33;43m\"\u001b[39;49m\u001b[33;43mBullet‑point feedback on what was good, what was weak, and how to improve\u001b[39;49m\u001b[33;43m\"\u001b[39;49m\u001b[43m,\u001b[49m\n\u001b[32m     23\u001b[39m \u001b[43m    \u001b[49m\u001b[43magent\u001b[49m\u001b[43m            \u001b[49m\u001b[43m=\u001b[49m\u001b[43m \u001b[49m\u001b[43mcoach_agent\u001b[49m\u001b[43m,\u001b[49m\n\u001b[32m     24\u001b[39m \u001b[43m    \u001b[49m\u001b[43mcontext\u001b[49m\u001b[43m          \u001b[49m\u001b[43m=\u001b[49m\u001b[43m \u001b[49m\u001b[43m[\u001b[49m\u001b[43mqa_source\u001b[49m\u001b[43m]\u001b[49m\u001b[43m,\u001b[49m\u001b[43m            \u001b[49m\u001b[38;5;66;43;03m# ← inject Q&A here\u001b[39;49;00m\n\u001b[32m     25\u001b[39m \u001b[43m    \u001b[49m\u001b[43mhuman_input\u001b[49m\u001b[43m      \u001b[49m\u001b[43m=\u001b[49m\u001b[43m \u001b[49m\u001b[38;5;28;43;01mFalse\u001b[39;49;00m\u001b[43m                   \u001b[49m\u001b[38;5;66;43;03m# ← ensure it doesn’t wait for another human turn\u001b[39;49;00m\n\u001b[32m     26\u001b[39m \u001b[43m)\u001b[49m\n\u001b[32m     28\u001b[39m \u001b[38;5;66;03m# run the coach\u001b[39;00m\n\u001b[32m     29\u001b[39m coach_crew = Crew(\n\u001b[32m     30\u001b[39m     agents  = [coach_agent],\n\u001b[32m     31\u001b[39m     tasks   = [coaching_task],\n\u001b[32m     32\u001b[39m     verbose = \u001b[38;5;28;01mTrue\u001b[39;00m,\n\u001b[32m     33\u001b[39m     process = Process.sequential,\n\u001b[32m     34\u001b[39m )\n",
      "    \u001b[31m[... skipping hidden 1 frame]\u001b[39m\n",
      "\u001b[36mFile \u001b[39m\u001b[32m~/AIEngineerLearning/crewai-AI-agents/.venv/lib/python3.11/site-packages/crewai/task.py:222\u001b[39m, in \u001b[36mTask.process_model_config\u001b[39m\u001b[34m(cls, values)\u001b[39m\n\u001b[32m    219\u001b[39m \u001b[38;5;129m@model_validator\u001b[39m(mode=\u001b[33m\"\u001b[39m\u001b[33mbefore\u001b[39m\u001b[33m\"\u001b[39m)\n\u001b[32m    220\u001b[39m \u001b[38;5;129m@classmethod\u001b[39m\n\u001b[32m    221\u001b[39m \u001b[38;5;28;01mdef\u001b[39;00m\u001b[38;5;250m \u001b[39m\u001b[34mprocess_model_config\u001b[39m(\u001b[38;5;28mcls\u001b[39m, values):\n\u001b[32m--> \u001b[39m\u001b[32m222\u001b[39m     \u001b[38;5;28;01mreturn\u001b[39;00m \u001b[43mprocess_config\u001b[49m\u001b[43m(\u001b[49m\u001b[43mvalues\u001b[49m\u001b[43m,\u001b[49m\u001b[43m \u001b[49m\u001b[38;5;28;43mcls\u001b[39;49m\u001b[43m)\u001b[49m\n",
      "\u001b[36mFile \u001b[39m\u001b[32m~/AIEngineerLearning/crewai-AI-agents/.venv/lib/python3.11/site-packages/crewai/utilities/config.py:19\u001b[39m, in \u001b[36mprocess_config\u001b[39m\u001b[34m(values, model_class)\u001b[39m\n\u001b[32m      6\u001b[39m \u001b[38;5;28;01mdef\u001b[39;00m\u001b[38;5;250m \u001b[39m\u001b[34mprocess_config\u001b[39m(\n\u001b[32m      7\u001b[39m     values: Dict[\u001b[38;5;28mstr\u001b[39m, Any], model_class: Type[BaseModel]\n\u001b[32m      8\u001b[39m ) -> Dict[\u001b[38;5;28mstr\u001b[39m, Any]:\n\u001b[32m      9\u001b[39m \u001b[38;5;250m    \u001b[39m\u001b[33;03m\"\"\"\u001b[39;00m\n\u001b[32m     10\u001b[39m \u001b[33;03m    Process the config dictionary and update the values accordingly.\u001b[39;00m\n\u001b[32m     11\u001b[39m \n\u001b[32m   (...)\u001b[39m\u001b[32m     17\u001b[39m \u001b[33;03m        Dict[str, Any]: The updated values dictionary.\u001b[39;00m\n\u001b[32m     18\u001b[39m \u001b[33;03m    \"\"\"\u001b[39;00m\n\u001b[32m---> \u001b[39m\u001b[32m19\u001b[39m     config = \u001b[43mvalues\u001b[49m\u001b[43m.\u001b[49m\u001b[43mget\u001b[49m(\u001b[33m\"\u001b[39m\u001b[33mconfig\u001b[39m\u001b[33m\"\u001b[39m, {})\n\u001b[32m     20\u001b[39m     \u001b[38;5;28;01mif\u001b[39;00m \u001b[38;5;129;01mnot\u001b[39;00m config:\n\u001b[32m     21\u001b[39m         \u001b[38;5;28;01mreturn\u001b[39;00m values\n",
      "\u001b[36mFile \u001b[39m\u001b[32m~/AIEngineerLearning/crewai-AI-agents/.venv/lib/python3.11/site-packages/pydantic/main.py:994\u001b[39m, in \u001b[36mBaseModel.__getattr__\u001b[39m\u001b[34m(self, item)\u001b[39m\n\u001b[32m    991\u001b[39m     \u001b[38;5;28;01mreturn\u001b[39;00m \u001b[38;5;28msuper\u001b[39m().\u001b[34m__getattribute__\u001b[39m(item)  \u001b[38;5;66;03m# Raises AttributeError if appropriate\u001b[39;00m\n\u001b[32m    992\u001b[39m \u001b[38;5;28;01melse\u001b[39;00m:\n\u001b[32m    993\u001b[39m     \u001b[38;5;66;03m# this is the current error\u001b[39;00m\n\u001b[32m--> \u001b[39m\u001b[32m994\u001b[39m     \u001b[38;5;28;01mraise\u001b[39;00m \u001b[38;5;167;01mAttributeError\u001b[39;00m(\u001b[33mf\u001b[39m\u001b[33m'\u001b[39m\u001b[38;5;132;01m{\u001b[39;00m\u001b[38;5;28mtype\u001b[39m(\u001b[38;5;28mself\u001b[39m).\u001b[34m__name__\u001b[39m\u001b[38;5;132;01m!r}\u001b[39;00m\u001b[33m object has no attribute \u001b[39m\u001b[38;5;132;01m{\u001b[39;00mitem\u001b[38;5;132;01m!r}\u001b[39;00m\u001b[33m'\u001b[39m)\n",
      "\u001b[31mAttributeError\u001b[39m: 'StringKnowledgeSource' object has no attribute 'get'"
     ]
    }
   ],
   "source": [
    "# 1) run the interviewer\n",
    "test_crew = Crew(\n",
    "    agents  = [interviewer_agent],\n",
    "    tasks   = [interview_prep_task],\n",
    "    verbose = True,\n",
    "    process = Process.sequential,\n",
    ")\n",
    "result1 = test_crew.kickoff()\n",
    "question = result1.tasks_output[0].raw\n",
    "display(Markdown(question))\n",
    "\n",
    "# get your answer\n",
    "user_answer = input(\"Your answer: \")\n",
    "\n",
    "# 2) build a feedback Task, *using context* rather than human_input or memory\n",
    "from crewai.knowledge.source.string_knowledge_source import StringKnowledgeSource\n",
    "\n",
    "qa_source = StringKnowledgeSource(content=f\"Q: {question}\\nA: {user_answer}\")\n",
    "\n",
    "coaching_task = Task(\n",
    "    description      = \"Coach: give feedback to the answer above\",\n",
    "    expected_output  = \"Bullet‑point feedback on what was good, what was weak, and how to improve\",\n",
    "    agent            = coach_agent,\n",
    "    context          = [qa_source],            # ← inject Q&A here\n",
    "    human_input      = False                   # ← ensure it doesn’t wait for another human turn\n",
    ")\n",
    "\n",
    "# run the coach\n",
    "coach_crew = Crew(\n",
    "    agents  = [coach_agent],\n",
    "    tasks   = [coaching_task],\n",
    "    verbose = True,\n",
    "    process = Process.sequential,\n",
    ")\n",
    "result2 = coach_crew.kickoff()\n",
    "display(Markdown(result2.tasks_output[0].raw))"
   ]
  }
 ],
 "metadata": {
  "colab": {
   "authorship_tag": "ABX9TyOaeeC2JCle2AXPrqzfz5eR",
   "provenance": []
  },
  "kernelspec": {
   "display_name": ".venv",
   "language": "python",
   "name": "python3"
  },
  "language_info": {
   "codemirror_mode": {
    "name": "ipython",
    "version": 3
   },
   "file_extension": ".py",
   "mimetype": "text/x-python",
   "name": "python",
   "nbconvert_exporter": "python",
   "pygments_lexer": "ipython3",
   "version": "3.11.12"
  }
 },
 "nbformat": 4,
 "nbformat_minor": 0
}
