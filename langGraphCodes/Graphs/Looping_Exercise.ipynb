{
 "cells": [
  {
   "cell_type": "code",
   "execution_count": 5,
   "id": "95c7a2c6",
   "metadata": {},
   "outputs": [],
   "source": [
    "from typing import TypedDict, List\n",
    "from langgraph.graph import StateGraph, END\n",
    "import random"
   ]
  },
  {
   "cell_type": "code",
   "execution_count": 14,
   "id": "6abc9c28",
   "metadata": {},
   "outputs": [],
   "source": [
    "class AgentState(TypedDict):\n",
    "    player_name: str\n",
    "    guess: int\n",
    "    guesses: List[int]\n",
    "    attempts: int\n",
    "    lower_bound: int\n",
    "    upper_bound: int\n",
    "    number: int"
   ]
  },
  {
   "cell_type": "code",
   "execution_count": null,
   "id": "92f39082",
   "metadata": {},
   "outputs": [],
   "source": [
    "def setup(state: AgentState) -> AgentState:\n",
    "    \"\"\"Node to setup the game\"\"\"\n",
    "    print(f\"Welcome to the game {state['player_name']}\")\n",
    "    state['attempts'] = 0\n",
    "    state['guesses'] = []\n",
    "    state['number'] = random.randint(state['lower_bound'], state['upper_bound'])\n",
    "    return state\n",
    "def guess_node(state: AgentState) -> AgentState:\n",
    "    state['guess'] = random.randint(state['lower_bound'], state['upper_bound'])\n",
    "    state['guesses'].append(state['guess'])\n",
    "    state['attempts'] += 1\n",
    "    return state\n",
    "def hint_node(state: AgentState) -> AgentState:\n",
    "    \"\"\"Node to provide hints based on guessed number\"\"\"\n",
    "    if state['number'] > state['guess']:\n",
    "        print(\"Higher\")\n",
    "        state['lower_bound'] = state['guess']\n",
    "    if state['number'] < state['guess']:\n",
    "        print(\"Lower\")\n",
    "        state['upper_bound'] = state['guess']\n",
    "    return state\n",
    "def should_continue(state: AgentState) -> str:\n",
    "    \"\"\"Deteremine weather the game should continue or stop\"\"\"\n",
    "    if state['attempts'] >= 7:\n",
    "        print(\"No Attempts remaining\")\n",
    "        return \"end\"\n",
    "    elif state['number'] == state['guess']:\n",
    "        print(f\"Guessed Correctly. The number is {state['number']}\")\n",
    "        return \"end\"\n",
    "    else:\n",
    "        return \"continue\""
   ]
  },
  {
   "cell_type": "code",
   "execution_count": 27,
   "id": "ee6d3f77",
   "metadata": {},
   "outputs": [
    {
     "data": {
      "image/png": "[encoded data removed]",
      "text/plain": [
       "<langgraph.graph.state.CompiledStateGraph object at 0x7abbead99d10>"
      ]
     },
     "execution_count": 27,
     "metadata": {},
     "output_type": "execute_result"
    }
   ],
   "source": [
    "graph = StateGraph(AgentState)\n",
    "\n",
    "graph.add_node(\"setup\", setup)\n",
    "graph.add_node(\"guess_node\", guess_node)\n",
    "graph.add_node(\"hint_node\", hint_node)\n",
    "\n",
    "graph.add_edge(\"setup\", \"guess_node\")\n",
    "graph.add_edge(\"guess_node\", \"hint_node\")\n",
    "graph.add_conditional_edges(\n",
    "    \"hint_node\",\n",
    "    should_continue,\n",
    "    {\n",
    "        \"end\": END,\n",
    "        \"continue\": \"guess_node\",\n",
    "    }\n",
    ")\n",
    "graph.set_entry_point(\"setup\")\n",
    "app = graph.compile()\n",
    "app"
   ]
  },
  {
   "cell_type": "code",
   "execution_count": 36,
   "id": "f340c409",
   "metadata": {},
   "outputs": [
    {
     "name": "stdout",
     "output_type": "stream",
     "text": [
      "Welcome to the game Student\n",
      "Higher\n",
      "Higher\n",
      "Lower\n",
      "Lower\n",
      "Lower\n",
      "Higher\n",
      "Higher\n",
      "Higher\n",
      "No Attempts remaining\n"
     ]
    },
    {
     "data": {
      "text/plain": [
       "{'player_name': 'Student',\n",
       " 'guess': 80,\n",
       " 'guesses': [28, 71, 98, 92, 86, 77, 78, 80],\n",
       " 'attempts': 8,\n",
       " 'lower_bound': 80,\n",
       " 'upper_bound': 86,\n",
       " 'number': 81}"
      ]
     },
     "execution_count": 36,
     "metadata": {},
     "output_type": "execute_result"
    }
   ],
   "source": [
    "app.invoke({\"player_name\": \"Student\", \"guesses\": [], \"attempts\": 0, \"lower_bound\": 1,\n",
    "\"upper_bound\": 100})"
   ]
  },
  {
   "cell_type": "code",
   "execution_count": null,
   "id": "5376f516",
   "metadata": {},
   "outputs": [],
   "source": []
  }
 ],
 "metadata": {
  "kernelspec": {
   "display_name": ".venv",
   "language": "python",
   "name": "python3"
  },
  "language_info": {
   "codemirror_mode": {
    "name": "ipython",
    "version": 3
   },
   "file_extension": ".py",
   "mimetype": "text/x-python",
   "name": "python",
   "nbconvert_exporter": "python",
   "pygments_lexer": "ipython3",
   "version": "3.13.2"
  }
 },
 "nbformat": 4,
 "nbformat_minor": 5
}
