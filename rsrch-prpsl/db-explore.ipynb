{
 "cells": [
  {
   "cell_type": "code",
   "execution_count": 1,
   "id": "83113d5a",
   "metadata": {},
   "outputs": [],
   "source": [
    "from langchain_community.utilities import SQLDatabase\n",
    "\n",
    "db = SQLDatabase.from_uri(\"sqlite:///Chinook.db\")"
   ]
  },
  {
   "cell_type": "code",
   "execution_count": 10,
   "id": "54ba1e01",
   "metadata": {},
   "outputs": [
    {
     "data": {
      "text/plain": [
       "['Album',\n",
       " 'Artist',\n",
       " 'Customer',\n",
       " 'Employee',\n",
       " 'Genre',\n",
       " 'Invoice',\n",
       " 'InvoiceLine',\n",
       " 'MediaType',\n",
       " 'Playlist',\n",
       " 'PlaylistTrack',\n",
       " 'Track']"
      ]
     },
     "execution_count": 10,
     "metadata": {},
     "output_type": "execute_result"
    }
   ],
   "source": [
    "from IPython.display import display, HTML\n",
    "\n",
    "db.get_context()\n",
    "db.get_usable_table_names()"
   ]
  },
  {
   "cell_type": "code",
   "execution_count": 8,
   "id": "6d5c6cf8",
   "metadata": {},
   "outputs": [],
   "source": [
    "import re\n",
    "from IPython.display import display, HTML\n",
    "\n",
    "def visualize_db_schema(db_context):\n",
    "    \"\"\"Convert database context to clean HTML visualization\"\"\"\n",
    "    \n",
    "    # Extract table info\n",
    "    table_info = db_context['table_info']\n",
    "    \n",
    "    # Split by CREATE TABLE statements\n",
    "    tables = re.split(r'\\n\\nCREATE TABLE', table_info)\n",
    "    \n",
    "    html_output = \"\"\"\n",
    "    <style>\n",
    "        .db-table { \n",
    "            border: 2px solid #4CAF50; \n",
    "            margin: 15px 0; \n",
    "            border-radius: 8px; \n",
    "            overflow: hidden;\n",
    "        }\n",
    "        .table-header { \n",
    "            background: #4CAF50; \n",
    "            color: white; \n",
    "            padding: 10px; \n",
    "            font-weight: bold; \n",
    "            font-size: 16px;\n",
    "        }\n",
    "        .table-schema { \n",
    "            padding: 10px; \n",
    "            font-family: monospace; \n",
    "            font-size: 12px;\n",
    "            white-space: pre-wrap;\n",
    "        }\n",
    "        .sample-data { \n",
    "            padding: 10px; \n",
    "            border-top: 1px solid #ddd;\n",
    "        }\n",
    "        .sample-header { \n",
    "            font-weight: bold; \n",
    "            color: #2E7D32; \n",
    "            margin-bottom: 5px;\n",
    "        }\n",
    "    </style>\n",
    "    \"\"\"\n",
    "    \n",
    "    for i, table in enumerate(tables):\n",
    "        if not table.strip():\n",
    "            continue\n",
    "            \n",
    "        # Add CREATE TABLE back if it was split\n",
    "        if i > 0:\n",
    "            table = \"CREATE TABLE\" + table\n",
    "            \n",
    "        # Extract table name\n",
    "        table_name_match = re.search(r'CREATE TABLE \"(\\w+)\"', table)\n",
    "        if not table_name_match:\n",
    "            continue\n",
    "        table_name = table_name_match.group(1)\n",
    "        \n",
    "        # Split schema and sample data\n",
    "        parts = table.split('/*')\n",
    "        schema_part = parts[0].strip()\n",
    "        \n",
    "        sample_data = \"\"\n",
    "        if len(parts) > 1:\n",
    "            sample_match = re.search(r'\\n3 rows from.*?\\n(.*?)\\n\\*/', table, re.DOTALL)\n",
    "            if sample_match:\n",
    "                sample_data = sample_match.group(1).strip()\n",
    "        \n",
    "        # Build HTML for this table\n",
    "        html_output += f\"\"\"\n",
    "        <div class=\"db-table\">\n",
    "            <div class=\"table-header\">📊 {table_name} Table</div>\n",
    "            <div class=\"table-schema\">{schema_part}</div>\n",
    "            <div class=\"sample-data\">\n",
    "                <div class=\"sample-header\">Sample Data:</div>\n",
    "                <pre style=\"margin:0; font-size:11px;\">{sample_data}</pre>\n",
    "            </div>\n",
    "        </div>\n",
    "        \"\"\"\n",
    "    \n",
    "    return html_output\n",
    "\n",
    "# Get database context and visualize\n",
    "# context = db.get_context()\n",
    "# html_viz = visualize_db_schema(context)\n",
    "# display(HTML(html_viz))\n"
   ]
  }
 ],
 "metadata": {
  "kernelspec": {
   "display_name": "rsrch-prpsl",
   "language": "python",
   "name": "python3"
  },
  "language_info": {
   "codemirror_mode": {
    "name": "ipython",
    "version": 3
   },
   "file_extension": ".py",
   "mimetype": "text/x-python",
   "name": "python",
   "nbconvert_exporter": "python",
   "pygments_lexer": "ipython3",
   "version": "3.13.2"
  }
 },
 "nbformat": 4,
 "nbformat_minor": 5
}
